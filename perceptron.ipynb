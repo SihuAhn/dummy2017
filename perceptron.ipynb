{
 "cells": [
  {
   "cell_type": "code",
   "execution_count": 1,
   "metadata": {},
   "outputs": [
    {
     "name": "stdout",
     "output_type": "stream",
     "text": [
      "[1, 1] ,  -1 , -1\n",
      "[1, 3] ,  -1 , -1\n",
      "[2, 1] ,  -1 , -1\n",
      "[3, 2] ,  -1 , -1\n",
      "[5, 3] ,  1 , 1\n",
      "[6, 3] ,  1 , 1\n",
      "[6, 5] ,  1 , 1\n",
      "[7, 2] ,  1 , 1\n"
     ]
    }
   ],
   "source": [
    "import random\n",
    "\n",
    "x = [[1, 1], [1, 3], [2, 1], [3, 2], [5, 3], [6, 3], [6, 5], [7, 2]]\n",
    "y = [-1, -1, -1, -1, 1, 1, 1, 1]\n",
    "w = []\n",
    "\n",
    "def predict(w, x_i):\n",
    "    answer = 0\n",
    "    sum = w[0]\n",
    "    for i in range(1, len(w)):\n",
    "        sum += w[i] * x_i[i-1]\n",
    "    if sum > 0:\n",
    "        answer = 1\n",
    "    elif sum < 0:\n",
    "        answer = -1\n",
    "    return answer\n",
    "\n",
    "def learn(w, x, y):\n",
    "    \n",
    "    learning = True\n",
    "    while learning :\n",
    "        learning = False\n",
    "        for i in range(len(x)):\n",
    "            machineAnswer = predict(w,x[i])\n",
    "            answer = y[i]\n",
    "            if machineAnswer != answer:\n",
    "                for j in range(0, len(w)):\n",
    "                    if j == 0:\n",
    "                        w[j] = w[j] + y[i] * 1\n",
    "                    else:\n",
    "                        w[j] = w[j] + y[i] * x[i][j-1]\n",
    "                learning = True\n",
    "            \n",
    "    return w\n",
    "\n",
    "for i in range(0, 3):\n",
    "    w_i = random.uniform(0,1)\n",
    "    w.append(w_i)\n",
    "\n",
    "w = learn(w, x, y)\n",
    "\n",
    "# for i in range(0, len(x)):\n",
    "#     print(x[i],\", \" ,y[i] ,\",\" ,predict(w,x[i]))\n",
    "    \n",
    "for x_i, y_i in zip(x, y):\n",
    "    print(x_i,\", \" ,y_i ,\",\" ,predict(w,x_i))"
   ]
  },
  {
   "cell_type": "code",
   "execution_count": null,
   "metadata": {},
   "outputs": [],
   "source": []
  }
 ],
 "metadata": {
  "kernelspec": {
   "display_name": "Python 3",
   "language": "python",
   "name": "python3"
  },
  "language_info": {
   "codemirror_mode": {
    "name": "ipython",
    "version": 3
   },
   "file_extension": ".py",
   "mimetype": "text/x-python",
   "name": "python",
   "nbconvert_exporter": "python",
   "pygments_lexer": "ipython3",
   "version": "3.8.3"
  }
 },
 "nbformat": 4,
 "nbformat_minor": 4
}
