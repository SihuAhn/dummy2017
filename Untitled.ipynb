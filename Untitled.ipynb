{
 "cells": [
  {
   "cell_type": "code",
   "execution_count": 16,
   "metadata": {},
   "outputs": [
    {
     "name": "stdin",
     "output_type": "stream",
     "text": [
      "층 입력 :  3\n"
     ]
    },
    {
     "name": "stdout",
     "output_type": "stream",
     "text": [
      "\n",
      "  *  \n",
      " *** \n",
      "*****"
     ]
    }
   ],
   "source": [
    "level = eval(input(\"층 입력 : \"))\n",
    "for i in range(0, level, 1):\n",
    "    print()\n",
    "    for j in range(0, level*2-1, 1):\n",
    "        if(i<level-j-1 or i+level<j+1):\n",
    "            print(end=' ')\n",
    "        else:\n",
    "            print(\"*\", end='')"
   ]
  },
  {
   "cell_type": "code",
   "execution_count": 73,
   "metadata": {},
   "outputs": [
    {
     "name": "stdout",
     "output_type": "stream",
     "text": [
      "\n",
      "                   3    \n",
      "           2      333   \n",
      "  0       222    33333  \n",
      " 000  1  22222  3333333 \n",
      "000001112222222333333333"
     ]
    }
   ],
   "source": [
    "list = [5,3,7,9]\n",
    "for x in range(0, max(list)//2+1, 1):\n",
    "    print()\n",
    "    for y in range(0, len(list), 1):\n",
    "        for z in range(0, list[y], 1):\n",
    "            if(x>-z+(max(list)//2)-1 and x+list[y]>z+(max(list)//2)):\n",
    "                print(y, end=\"\")\n",
    "            else:\n",
    "                print(\" \", end=\"\")"
   ]
  },
  {
   "cell_type": "code",
   "execution_count": null,
   "metadata": {},
   "outputs": [],
   "source": []
  }
 ],
 "metadata": {
  "kernelspec": {
   "display_name": "Python 3",
   "language": "python",
   "name": "python3"
  },
  "language_info": {
   "codemirror_mode": {
    "name": "ipython",
    "version": 3
   },
   "file_extension": ".py",
   "mimetype": "text/x-python",
   "name": "python",
   "nbconvert_exporter": "python",
   "pygments_lexer": "ipython3",
   "version": "3.7.3"
  }
 },
 "nbformat": 4,
 "nbformat_minor": 2
}
