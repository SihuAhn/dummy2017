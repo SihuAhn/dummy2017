{
 "cells": [
  {
   "cell_type": "code",
   "execution_count": 7,
   "metadata": {},
   "outputs": [
    {
     "name": "stdout",
     "output_type": "stream",
     "text": [
      "[[ 3  3]\n",
      " [27 27]]\n"
     ]
    }
   ],
   "source": [
    "import numpy as np\n",
    "\n",
    "array_1s = np.array([[1,1,1],[1,1,1]])\n",
    "array_9s = np.array([[9,9,9],[9,9,9]])\n",
    "\n",
    "result = np.sum([array_1s, array_9s], axis=2)\n",
    "print(result)"
   ]
  },
  {
   "cell_type": "code",
   "execution_count": 12,
   "metadata": {},
   "outputs": [
    {
     "name": "stdout",
     "output_type": "stream",
     "text": [
      "[[[5 0 3 3 7]\n",
      "  [9 3 5 2 4]\n",
      "  [7 6 8 8 1]\n",
      "  [6 7 7 8 1]]\n",
      "\n",
      " [[5 9 8 9 4]\n",
      "  [3 0 3 5 0]\n",
      "  [2 3 8 1 3]\n",
      "  [3 3 7 0 1]]\n",
      "\n",
      " [[9 9 0 4 7]\n",
      "  [3 2 7 2 0]\n",
      "  [0 4 5 5 6]\n",
      "  [8 4 1 4 9]]]\n"
     ]
    }
   ],
   "source": [
    "import numpy as np\n",
    "np.random.seed(0)\n",
    "x = np.random.randint(10, size=(3,4,5))\n",
    "print(x)"
   ]
  },
  {
   "cell_type": "code",
   "execution_count": 22,
   "metadata": {},
   "outputs": [
    {
     "data": {
      "text/plain": [
       "array([[[0, 5],\n",
       "        [3, 1]]])"
      ]
     },
     "execution_count": 22,
     "metadata": {},
     "output_type": "execute_result"
    }
   ],
   "source": [
    "x[1:2,1:3,1:4:2]"
   ]
  },
  {
   "cell_type": "code",
   "execution_count": 33,
   "metadata": {},
   "outputs": [
    {
     "data": {
      "text/plain": [
       "array([[[1., 2., 3.]],\n",
       "\n",
       "       [[1., 2., 3.]],\n",
       "\n",
       "       [[1., 2., 3.]]])"
      ]
     },
     "execution_count": 33,
     "metadata": {},
     "output_type": "execute_result"
    }
   ],
   "source": [
    "import numpy as np\n",
    "\n",
    "M = np.ones((3,1,1))\n",
    "a = np.arange(3)\n",
    "np.add(M,a)"
   ]
  },
  {
   "cell_type": "code",
   "execution_count": null,
   "metadata": {},
   "outputs": [],
   "source": []
  }
 ],
 "metadata": {
  "kernelspec": {
   "display_name": "Python 3",
   "language": "python",
   "name": "python3"
  },
  "language_info": {
   "codemirror_mode": {
    "name": "ipython",
    "version": 3
   },
   "file_extension": ".py",
   "mimetype": "text/x-python",
   "name": "python",
   "nbconvert_exporter": "python",
   "pygments_lexer": "ipython3",
   "version": "3.7.3"
  }
 },
 "nbformat": 4,
 "nbformat_minor": 2
}
