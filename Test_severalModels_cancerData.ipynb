{
 "cells": [
  {
   "cell_type": "code",
   "execution_count": 11,
   "metadata": {},
   "outputs": [],
   "source": [
    "# load breaset cancer data\n",
    "# from sklearn.datasets import load_breast_cancer\n",
    "\n",
    "# cancer = load_breast_cancer()\n",
    "# print(dir(cancer))\n",
    "# print(cancer.DESCR)\n",
    "# print(cancer.feature_names)\n",
    "# print(cancer.data[0])\n",
    "# print(cancer.target_names)\n",
    "# print(cancer.target)"
   ]
  },
  {
   "cell_type": "markdown",
   "metadata": {},
   "source": [
    "# 유방암 진단 데이터 호출 및 트레이닝 데이터와 테스트 데이터로 분류"
   ]
  },
  {
   "cell_type": "code",
   "execution_count": 6,
   "metadata": {},
   "outputs": [
    {
     "name": "stdout",
     "output_type": "stream",
     "text": [
      "[0 0 0 0 0 0 0 0 0 0 0 0 0 0 0 0 0 0 0 1 1 1 0 0 0 0 0 0 0 0 0 0 0 0 0 0 0\n",
      " 1 0 0 0 0 0 0 0 0 1 0 1 1 1 1 1 0 0 1 0 0 1 1 1 1 0 1 0 0 1 1 1 1 0 1 0 0\n",
      " 1 0 1 0 0 1 1 1 0 0 1 0 0 0 1 1 1 0 1 1 0 0 1 1 1 0 0 1 1 1 1 0 1 1 0 1 1\n",
      " 1 1 1 1 1 1 0 0 0 1 0 0 1 1 1 0 0 1 0 1 0 0 1 0 0 1 1 0 1 1 0 1 1 1 1 0 1\n",
      " 1 1 1 1 1 1 1 1 0 1 1 1 1 0 0 1 0 1 1 0 0 1 1 0 0 1 1 1 1 0 1 1 0 0 0 1 0\n",
      " 1 0 1 1 1 0 1 1 0 0 1 0 0 0 0 1 0 0 0 1 0 1 0 1 1 0 1 0 0 0 0 1 1 0 0 1 1\n",
      " 1 0 1 1 1 1 1 0 0 1 1 0 1 1 0 0 1 0 1 1 1 1 0 1 1 1 1 1 0 1 0 0 0 0 0 0 0\n",
      " 0 0 0 0 0 0 0 1 1 1 1 1 1 0 1 0 1 1 0 1 1 0 1 0 0 1 1 1 1 1 1 1 1 1 1 1 1\n",
      " 1 0 1 1 0 1 0 1 1 1 1 1 1 1 1 1 1 1 1 1 1 0 1 1 1 0 1 0 1 1 1 1 0 0 0 1 1\n",
      " 1 1 0 1 0 1 0 1 1 1 0 1 1 1 1 1 1 1 0 0 0 1 1 1 1 1 1 1 1 1 1 1 0 0 1 0 0\n",
      " 0 1 0 0 1 1 1 1 1 0 1 1 1 1 1 0 1 1 1 0 1 1 0 0 1 1 1 1 1 1 0 1 1 1 1 1 1\n",
      " 1 0 1 1 1 1 1 0 1 1 0 1 1 1 1 1 1 1 1 1 1 1 1 0 1 0 0 1 0 1 1 1 1 1 0 1 1\n",
      " 0 1 0 1 1 0 1 0 1 1 1 1 1 1 1 1 0 0 1 1 1 1 1 1 0 1 1 1 1 1 1 1 1 1 1 0 1\n",
      " 1 1 1 1 1 1 0 1 0 1 1 0 1 1 1 1 1 0 0 1 0 1 0 1 1 1 1 1 0 1 1 0 1 0 1 0 0\n",
      " 1 1 1 0 1 1 1 1 1 1 1 1 1 1 1 0 1 0 0 1 1 1 1 1 1 1 1 1 1 1 1 1 1 1 1 1 1\n",
      " 1 1 1 1 1 1 1 0 0 0 0 0 0 1]\n"
     ]
    }
   ],
   "source": [
    "from sklearn.datasets import load_breast_cancer #sklearn datasets의 유방암 진단 데이터 호출\n",
    "import pandas as pd #pandas를 호출하고 pd로 정의\n",
    "import numpy as np #numpy를 호출하고 np로 정의\n",
    "from sklearn.model_selection import train_test_split\n",
    "\n",
    "cancer = load_breast_cancer()\n",
    "\n",
    "data = pd.DataFrame(np.c_[cancer[\"data\"], cancer[\"target\"]],\n",
    "                    columns = np.append(cancer['feature_names'], [\"target\"]))\n",
    "\n",
    "X = data.drop([\"target\"], axis=1) #target을 제외한 feature들을 X에 저장\n",
    "y = data[\"target\"].astype(int) #target을 y에 저장\n",
    "X_train, X_test, y_train, y_test = train_test_split(X, y, test_size=0.3, random_state=0) # train data와 test data를 7:3으로 나누고 값 고정\n",
    "\n",
    "# features의 scale 설정\n",
    "from sklearn.preprocessing import StandardScaler\n",
    "\n",
    "sc = StandardScaler()\n",
    "a = X_train\n",
    "X_train_fit = sc.fit_transform(a)\n",
    "b = X_test\n",
    "X_test_fit = sc.fit_transform(b)\n",
    "\n",
    "print(cancer.target)"
   ]
  },
  {
   "cell_type": "markdown",
   "metadata": {},
   "source": [
    "## DecisionTree 기반 모델 기본 버전"
   ]
  },
  {
   "cell_type": "code",
   "execution_count": 148,
   "metadata": {},
   "outputs": [
    {
     "name": "stdout",
     "output_type": "stream",
     "text": [
      "Basic_Decision Tree\n",
      "Accuracy: 0.92 (+/- 0.03)\n",
      "Precision: 0.95 (+/- 0.02)\n",
      "Recall: 0.92 (+/- 0.06)\n",
      "F1_score: 0.91 (+/- 0.03)\n"
     ]
    }
   ],
   "source": [
    "#DecisionTree 기반 모델\n",
    "from sklearn.tree import DecisionTreeClassifier\n",
    "\n",
    "dtc = DecisionTreeClassifier(random_state = 0) #dtc 머신 생성\n",
    "dtc.fit(X_train_fit, y_train) \n",
    "\n",
    "### 러닝 결과를 cross_val_score를 통해 기반으로 Accuracy, Precision, Recall, F1_score의 평균과 편차를 나타냄\n",
    "from sklearn.model_selection import cross_val_score\n",
    "scores_accuracy = cross_val_score(dtc,\n",
    "                         cancer.data,\n",
    "                         cancer.target,\n",
    "                         cv=5)\n",
    "dtc_accuracy = \"%0.2f (+/- %0.2f)\" % (scores_accuracy.mean(), scores_accuracy.std() * 2)\n",
    "scores_precision = cross_val_score(dtc,\n",
    "                                   cancer.data,\n",
    "                                  cancer.target,\n",
    "                                  cv=5,\n",
    "                                  scoring='precision')\n",
    "dtc_precision = \"%0.2f (+/- %0.2f)\" % (scores_precision.mean(), scores_precision.std() * 2)\n",
    "scores_recall = cross_val_score(dtc,\n",
    "                               cancer.data,\n",
    "                               cancer.target,\n",
    "                               cv=5,\n",
    "                               scoring='recall')\n",
    "dtc_recall = \"%0.2f (+/- %0.2f)\" % (scores_recall.mean(), scores_recall.std() * 2)\n",
    "scores_f1 = cross_val_score(dtc,\n",
    "                         cancer.data,\n",
    "                         cancer.target,\n",
    "                         cv=5,\n",
    "                         scoring='f1_macro',)\n",
    "dtc_f1 = \"%0.2f (+/- %0.2f)\" % (scores_f1.mean(), scores_f1.std() * 2)\n",
    "\n",
    "print(\"Basic_Decision Tree\")\n",
    "print(\"Accuracy:\", dtc_accuracy)\n",
    "print(\"Precision:\", dtc_precision)\n",
    "print(\"Recall:\", dtc_recall)\n",
    "print(\"F1_score:\", dtc_f1)"
   ]
  },
  {
   "cell_type": "markdown",
   "metadata": {},
   "source": [
    "## RandomForest 기반 모델 기본 버전"
   ]
  },
  {
   "cell_type": "code",
   "execution_count": 149,
   "metadata": {},
   "outputs": [
    {
     "name": "stdout",
     "output_type": "stream",
     "text": [
      "Basic_Random forest\n",
      "Accuracy: 0.97 (+/- 0.04)\n",
      "Precision: 0.97 (+/- 0.05)\n",
      "Recall: 0.98 (+/- 0.04)\n",
      "F1_score: 0.96 (+/- 0.04)\n"
     ]
    }
   ],
   "source": [
    "#RandomForest 기반 모델\n",
    "from sklearn.ensemble import RandomForestClassifier\n",
    "\n",
    "rfc = RandomForestClassifier(n_estimators=100, #n_estimators 없이 실행시 에러메시지가 뜨고 n_estimators의 기본값은 100이라고 안내해줌\n",
    "                             random_state=0)\n",
    "rfc.fit(X_train_fit, y_train)\n",
    "\n",
    "### 러닝 결과를 cross_val_score를 통해 Accuracy, Precision, Recall, F1_score의 평균과 편차를 나타냄\n",
    "from sklearn.model_selection import cross_val_score\n",
    "scores_accuracy = cross_val_score(rfc,\n",
    "                         cancer.data,\n",
    "                         cancer.target,\n",
    "                         cv=5)\n",
    "rfc_accuracy = \"%0.2f (+/- %0.2f)\" % (scores_accuracy.mean(), scores_accuracy.std() * 2)\n",
    "scores_precision = cross_val_score(rfc,\n",
    "                                   cancer.data,\n",
    "                                  cancer.target,\n",
    "                                  cv=5,\n",
    "                                  scoring='precision')\n",
    "rfc_precision = \"%0.2f (+/- %0.2f)\" % (scores_precision.mean(), scores_precision.std() * 2)\n",
    "scores_recall = cross_val_score(rfc,\n",
    "                               cancer.data,\n",
    "                               cancer.target,\n",
    "                               cv=5,\n",
    "                               scoring='recall')\n",
    "rfc_recall = \"%0.2f (+/- %0.2f)\" % (scores_recall.mean(), scores_recall.std() * 2)\n",
    "scores_f1 = cross_val_score(rfc,\n",
    "                         cancer.data,\n",
    "                         cancer.target,\n",
    "                         cv=5,\n",
    "                         scoring='f1_macro',)\n",
    "rfc_f1 = \"%0.2f (+/- %0.2f)\" % (scores_f1.mean(), scores_f1.std() * 2)\n",
    "\n",
    "print(\"Basic_Random forest\")\n",
    "print(\"Accuracy:\", rfc_accuracy)\n",
    "print(\"Precision:\", rfc_precision)\n",
    "print(\"Recall:\", rfc_recall)\n",
    "print(\"F1_score:\", rfc_f1)"
   ]
  },
  {
   "cell_type": "markdown",
   "metadata": {},
   "source": [
    "## Perceptron 기반 모델 기본 버전"
   ]
  },
  {
   "cell_type": "code",
   "execution_count": 150,
   "metadata": {},
   "outputs": [
    {
     "name": "stdout",
     "output_type": "stream",
     "text": [
      "Basic_Perceptron\n",
      "Accuracy: 0.77 (+/- 0.28)\n",
      "Precision: 0.94 (+/- 0.16)\n",
      "Recall: 0.69 (+/- 0.55)\n",
      "F1_score: 0.75 (+/- 0.29)\n"
     ]
    }
   ],
   "source": [
    "#Perceptron 기반 모델\n",
    "from sklearn.linear_model import Perceptron\n",
    "\n",
    "pc = Perceptron(tol=1e-3, #tol 없이 실행시 에러메시지가 뜨고 tol의 기본값은 3이라고 안내해줌\n",
    "                random_state=0)\n",
    "pc.fit(X_train_fit, y_train)\n",
    "\n",
    "### 러닝 결과를 cross_val_score를 통해 Accuracy, Precision, Recall, F1_score의 평균과 편차를 나타냄\n",
    "from sklearn.model_selection import cross_val_score\n",
    "scores_accuracy = cross_val_score(pc,\n",
    "                         cancer.data,\n",
    "                         cancer.target,\n",
    "                         cv=5)\n",
    "pc_accuracy = \"%0.2f (+/- %0.2f)\" % (scores_accuracy.mean(), scores_accuracy.std() * 2)\n",
    "scores_precision = cross_val_score(pc,\n",
    "                                   cancer.data,\n",
    "                                  cancer.target,\n",
    "                                  cv=5,\n",
    "                                  scoring='precision')\n",
    "pc_precision = \"%0.2f (+/- %0.2f)\" % (scores_precision.mean(), scores_precision.std() * 2)\n",
    "scores_recall = cross_val_score(pc,\n",
    "                               cancer.data,\n",
    "                               cancer.target,\n",
    "                               cv=5,\n",
    "                               scoring='recall')\n",
    "pc_recall = \"%0.2f (+/- %0.2f)\" % (scores_recall.mean(), scores_recall.std() * 2)\n",
    "scores_f1 = cross_val_score(pc,\n",
    "                         cancer.data,\n",
    "                         cancer.target,\n",
    "                         cv=5,\n",
    "                         scoring='f1_macro',)\n",
    "pc_f1 = \"%0.2f (+/- %0.2f)\" % (scores_f1.mean(), scores_f1.std() * 2)\n",
    "\n",
    "print(\"Basic_Perceptron\")\n",
    "print(\"Accuracy:\", pc_accuracy)\n",
    "print(\"Precision:\", pc_precision)\n",
    "print(\"Recall:\", pc_recall)\n",
    "print(\"F1_score:\", pc_f1)"
   ]
  },
  {
   "cell_type": "markdown",
   "metadata": {},
   "source": [
    "## Multi Layer Preceptron 기반 모델 기본 버전"
   ]
  },
  {
   "cell_type": "code",
   "execution_count": 151,
   "metadata": {},
   "outputs": [
    {
     "name": "stdout",
     "output_type": "stream",
     "text": [
      "Basic_Multi Layer Perceptron\n",
      "Accuracy: 0.94 (+/- 0.04)\n",
      "Precision: 0.94 (+/- 0.03)\n",
      "Recall: 0.96 (+/- 0.04)\n",
      "F1_score: 0.94 (+/- 0.04)\n"
     ]
    }
   ],
   "source": [
    "from sklearn.neural_network import MLPClassifier\n",
    "\n",
    "mc = MLPClassifier(solver='lbfgs',\n",
    "                   random_state=0)\n",
    "mc.fit(X_train_fit, y_train)\n",
    "\n",
    "### 러닝 결과를 cross_val_score를 통해 Accuracy, Precision, Recall, F1_score의 평균과 편차를 나타냄\n",
    "from sklearn.model_selection import cross_val_score\n",
    "scores_accuracy = cross_val_score(mc,\n",
    "                         cancer.data,\n",
    "                         cancer.target,\n",
    "                         cv=5)\n",
    "mc_accuracy = \"%0.2f (+/- %0.2f)\" % (scores_accuracy.mean(), scores_accuracy.std() * 2)\n",
    "scores_precision = cross_val_score(mc,\n",
    "                                   cancer.data,\n",
    "                                  cancer.target,\n",
    "                                  cv=5,\n",
    "                                  scoring='precision')\n",
    "mc_precision = \"%0.2f (+/- %0.2f)\" % (scores_precision.mean(), scores_precision.std() * 2)\n",
    "scores_recall = cross_val_score(mc,\n",
    "                               cancer.data,\n",
    "                               cancer.target,\n",
    "                               cv=5,\n",
    "                               scoring='recall')\n",
    "mc_recall = \"%0.2f (+/- %0.2f)\" % (scores_recall.mean(), scores_recall.std() * 2)\n",
    "scores_f1 = cross_val_score(mc,\n",
    "                         cancer.data,\n",
    "                         cancer.target,\n",
    "                         cv=5,\n",
    "                         scoring='f1_macro',)\n",
    "mc_f1 = \"%0.2f (+/- %0.2f)\" % (scores_f1.mean(), scores_f1.std() * 2)\n",
    "\n",
    "print(\"Basic_Multi Layer Perceptron\")\n",
    "print(\"Accuracy:\", mc_accuracy)\n",
    "print(\"Precision:\", mc_precision)\n",
    "print(\"Recall:\", mc_recall)\n",
    "print(\"F1_score:\", mc_f1)"
   ]
  },
  {
   "cell_type": "markdown",
   "metadata": {},
   "source": [
    "## Multi Layer Preceptron 기반 모델 좋은 성능을 내는 hidden_layer_sizes 구하기"
   ]
  },
  {
   "cell_type": "code",
   "execution_count": 184,
   "metadata": {},
   "outputs": [
    {
     "name": "stdout",
     "output_type": "stream",
     "text": [
      "{'activation': 'relu', 'alpha': 0.01, 'hidden_layer_sizes': 14, 'max_iter': 1000, 'random_state': 0, 'solver': 'lbfgs'}\n"
     ]
    }
   ],
   "source": [
    "from sklearn.model_selection import cross_val_score,GridSearchCV\n",
    "from sklearn.neural_network import MLPClassifier\n",
    "from sklearn import metrics\n",
    "import itertools\n",
    "\n",
    "parameters = {'activation':['relu'],'solver': ['lbfgs'], 'max_iter': [1000], 'alpha': 10.0 ** -np.arange(1, 5), 'hidden_layer_sizes':np.arange(1, 31), 'random_state':[0]}\n",
    "clf = GridSearchCV(MLPClassifier(), parameters, n_jobs=-1, cv=5)\n",
    "clf.fit(X_train_fit, y_train)\n",
    "print(clf.best_params_)"
   ]
  },
  {
   "cell_type": "markdown",
   "metadata": {},
   "source": [
    "# MLP 기반 최적화 모델"
   ]
  },
  {
   "cell_type": "code",
   "execution_count": 185,
   "metadata": {},
   "outputs": [
    {
     "name": "stdout",
     "output_type": "stream",
     "text": [
      "Best_Multi Layer Perceptron\n",
      "Accuracy: 0.940 (+/- 0.038)\n",
      "Precision: 0.934 (+/- 0.058)\n",
      "Recall: 0.975 (+/- 0.033)\n",
      "F1_score: 0.935 (+/- 0.044)\n"
     ]
    }
   ],
   "source": [
    "from sklearn.model_selection import cross_val_score\n",
    "from sklearn.neural_network import MLPClassifier\n",
    "from sklearn import metrics\n",
    "\n",
    "mc = MLPClassifier(activation = 'relu',\n",
    "                  solver = 'lbfgs',\n",
    "                  max_iter = 1000,\n",
    "                  alpha = 0.01,\n",
    "                  hidden_layer_sizes = (14),\n",
    "                  random_state = 0).fit(X_train_fit, y_train)\n",
    "### 러닝 결과를 cross_val_score를 통해 Accuracy, Precision, Recall, F1_score의 평균과 편차를 나타냄\n",
    "scores_accuracy = cross_val_score(mc,\n",
    "                         cancer.data,\n",
    "                         cancer.target,\n",
    "                         cv=5)\n",
    "mc_accuracy = \"%0.3f (+/- %0.3f)\" % (scores_accuracy.mean(), scores_accuracy.std() * 2)\n",
    "scores_precision = cross_val_score(mc,\n",
    "                                   cancer.data,\n",
    "                                  cancer.target,\n",
    "                                  cv=5,\n",
    "                                  scoring='precision')\n",
    "mc_precision = \"%0.3f (+/- %0.3f)\" % (scores_precision.mean(), scores_precision.std() * 2)\n",
    "scores_recall = cross_val_score(mc,\n",
    "                               cancer.data,\n",
    "                               cancer.target,\n",
    "                               cv=5,\n",
    "                               scoring='recall')\n",
    "mc_recall = \"%0.3f (+/- %0.3f)\" % (scores_recall.mean(), scores_recall.std() * 2)\n",
    "scores_f1 = cross_val_score(mc,\n",
    "                         cancer.data,\n",
    "                         cancer.target,\n",
    "                         cv=5,\n",
    "                         scoring='f1_macro',)\n",
    "mc_f1 = \"%0.3f (+/- %0.3f)\" % (scores_f1.mean(), scores_f1.std() * 2)\n",
    "\n",
    "print(\"Best_Multi Layer Perceptron\")\n",
    "print(\"Accuracy:\", mc_accuracy)\n",
    "print(\"Precision:\", mc_precision)\n",
    "print(\"Recall:\", mc_recall)\n",
    "print(\"F1_score:\", mc_f1)"
   ]
  },
  {
   "cell_type": "markdown",
   "metadata": {},
   "source": [
    "## RandomForest 기반 모델 좋은 성능의 n_estimators(트리의 갯수)와 max_features 구하기"
   ]
  },
  {
   "cell_type": "code",
   "execution_count": 137,
   "metadata": {},
   "outputs": [
    {
     "name": "stdout",
     "output_type": "stream",
     "text": [
      "32  /  5  /  0.9662074975088896  /  [0.93529459 0.95287272 0.99057155 0.98086043 0.9714382 ]  /  0.03968979688003942\n",
      "36  /  19  /  0.9661133205650436  /  [0.95417962 0.94314436 0.98105298 0.97113665 0.98105298]  /  0.030220619152251726\n",
      "44  /  5  /  0.966114786857803  /  [0.94428295 0.94314436 0.99057155 0.98086043 0.97171464]  /  0.03848319387080065\n",
      "45  /  5  /  0.966114786857803  /  [0.94428295 0.94314436 0.99057155 0.98086043 0.97171464]  /  0.03848319387080065\n",
      "46  /  5  /  0.966114786857803  /  [0.94428295 0.94314436 0.99057155 0.98086043 0.97171464]  /  0.03848319387080065\n",
      "48  /  5  /  0.966114786857803  /  [0.94428295 0.94314436 0.99057155 0.98086043 0.97171464]  /  0.03848319387080065\n",
      "50  /  5  /  0.966114786857803  /  [0.94428295 0.94314436 0.99057155 0.98086043 0.97171464]  /  0.03848319387080065\n",
      "54  /  5  /  0.966114786857803  /  [0.94428295 0.94314436 0.99057155 0.98086043 0.97171464]  /  0.03848319387080065\n",
      "55  /  5  /  0.966114786857803  /  [0.94428295 0.94314436 0.99057155 0.98086043 0.97171464]  /  0.03848319387080065\n",
      "56  /  5  /  0.966114786857803  /  [0.94428295 0.94314436 0.99057155 0.98086043 0.97171464]  /  0.03848319387080065\n",
      "56  /  19  /  0.9661437407548874  /  [0.93529459 0.94314436 0.99057155 0.97113665 0.99057155]  /  0.04646724526261187\n",
      "57  /  5  /  0.966114786857803  /  [0.94428295 0.94314436 0.99057155 0.98086043 0.97171464]  /  0.03848319387080065\n",
      "58  /  19  /  0.9661437407548874  /  [0.93529459 0.94314436 0.99057155 0.97113665 0.99057155]  /  0.04646724526261187\n",
      "59  /  5  /  0.966114786857803  /  [0.94428295 0.94314436 0.99057155 0.98086043 0.97171464]  /  0.03848319387080065\n",
      "59  /  19  /  0.9661437407548874  /  [0.93529459 0.94314436 0.99057155 0.97113665 0.99057155]  /  0.04646724526261187\n",
      "61  /  5  /  0.966114786857803  /  [0.94428295 0.94314436 0.99057155 0.98086043 0.97171464]  /  0.03848319387080065\n",
      "61  /  15  /  0.9660376991699868  /  [0.94428295 0.94314436 0.99057155 0.97113665 0.98105298]  /  0.03847848188195084\n",
      "end\n"
     ]
    }
   ],
   "source": [
    "#RandomForest 기반 모델 좋은 성능의 n_estimators(트리의 갯수)와 max_features 구하기\n",
    "from sklearn.ensemble import RandomForestClassifier\n",
    "for i in range(100): #10000까지 해본 결과 n_estimators가 92 넘는 결과 값을 얻은 적이 없어서 100으로 지정\n",
    "    for j in range(len(cancer.feature_names)):#최대 특질의 수만큼 알아봄\n",
    "        rfc = RandomForestClassifier(n_estimators=i+1,\n",
    "                                     max_features=j+1,\n",
    "                                     random_state=0)\n",
    "        rfc.fit(X_train_fit, y_train)\n",
    "        scores_f1 = cross_val_score(rfc,\n",
    "                         cancer.data,\n",
    "                         cancer.target,\n",
    "                         cv=5,\n",
    "                         scoring='f1_macro',)\n",
    "        if scores_f1.mean()>0.966:\n",
    "            print(i+1, \" / \", j+1 , \" / \", scores_f1.mean(), \" / \", scores_f1, \" / \", scores_f1.std() * 2)\n",
    "        if scores_f1.mean()>0.97:\n",
    "            print(i+1, \" / \", j+1, \" / \", scores_f1.mean(), \" / \", scores_f1, \" / \", scores_f1.std() * 2 ,\" / \", \" will make 97%\")\n",
    "            \n",
    "print(\"end\")\n"
   ]
  },
  {
   "cell_type": "markdown",
   "metadata": {},
   "source": [
    "## RandomForest 기반 최적화 모델"
   ]
  },
  {
   "cell_type": "code",
   "execution_count": 152,
   "metadata": {},
   "outputs": [
    {
     "name": "stdout",
     "output_type": "stream",
     "text": [
      "Best_Random Forest\n",
      "Accuracy: 0.969 (+/- 0.037)\n",
      "Precision: 0.970 (+/- 0.036)\n",
      "Recall: 0.980 (+/- 0.038)\n",
      "F1_score: 0.966 (+/- 0.040)\n"
     ]
    }
   ],
   "source": [
    "#RandomForest 기반 최적화 모델\n",
    "from sklearn.ensemble import RandomForestClassifier\n",
    "\n",
    "rfc = RandomForestClassifier(n_estimators=32,\n",
    "                             max_features=5,\n",
    "                             random_state=0)\n",
    "rfc.fit(X_train_fit, y_train)\n",
    "\n",
    "### 러닝 결과를 cross_val_score 기반으로 Accuracy, Precision, Recall, F1_score의 평균과 편차를 나타냄\n",
    "from sklearn.model_selection import cross_val_score\n",
    "scores_accuracy = cross_val_score(rfc,\n",
    "                         cancer.data,\n",
    "                         cancer.target,\n",
    "                         cv=5)\n",
    "rfc_accuracy = \"%0.3f (+/- %0.3f)\" % (scores_accuracy.mean(), scores_accuracy.std() * 2)\n",
    "scores_precision = cross_val_score(rfc,\n",
    "                                   cancer.data,\n",
    "                                  cancer.target,\n",
    "                                  cv=5,\n",
    "                                  scoring='precision')\n",
    "rfc_precision = \"%0.3f (+/- %0.3f)\" % (scores_precision.mean(), scores_precision.std() * 2)\n",
    "scores_recall = cross_val_score(rfc,\n",
    "                               cancer.data,\n",
    "                               cancer.target,\n",
    "                               cv=5,\n",
    "                               scoring='recall')\n",
    "rfc_recall = \"%0.3f (+/- %0.3f)\" % (scores_recall.mean(), scores_recall.std() * 2)\n",
    "scores_f1 = cross_val_score(rfc,\n",
    "                         cancer.data,\n",
    "                         cancer.target,\n",
    "                         cv=5,\n",
    "                         scoring='f1_macro',)\n",
    "rfc_f1 = \"%0.3f (+/- %0.3f)\" % (scores_f1.mean(), scores_f1.std() * 2)\n",
    "\n",
    "print(\"Best_Random Forest\")\n",
    "print(\"Accuracy:\", rfc_accuracy)\n",
    "print(\"Precision:\", rfc_precision)\n",
    "print(\"Recall:\", rfc_recall)\n",
    "print(\"F1_score:\", rfc_f1)"
   ]
  },
  {
   "cell_type": "markdown",
   "metadata": {},
   "source": [
    "## RandomForest 기반 최적화 모델 .dot 파일로 export"
   ]
  },
  {
   "cell_type": "code",
   "execution_count": 143,
   "metadata": {},
   "outputs": [],
   "source": [
    "estimator = rfc.estimators_[30]\n",
    "\n",
    "from sklearn.tree import export_graphviz\n",
    "# Export as dot file\n",
    "export_graphviz(estimator, out_file='tree.dot', \n",
    "                feature_names = cancer.feature_names,\n",
    "                class_names = cancer.target_names,\n",
    "                rounded = True, proportion = False, \n",
    "                precision = 2, filled = True)\n"
   ]
  },
  {
   "cell_type": "code",
   "execution_count": 183,
   "metadata": {},
   "outputs": [
    {
     "name": "stdout",
     "output_type": "stream",
     "text": [
      "RandomForestClassifier(bootstrap=True, class_weight=None, criterion='gini',\n",
      "            max_depth=None, max_features=5, max_leaf_nodes=None,\n",
      "            min_impurity_decrease=0.0, min_impurity_split=None,\n",
      "            min_samples_leaf=1, min_samples_split=2,\n",
      "            min_weight_fraction_leaf=0.0, n_estimators=32, n_jobs=None,\n",
      "            oob_score=False, random_state=0, verbose=0, warm_start=False)\n"
     ]
    }
   ],
   "source": [
    "print(rfc)"
   ]
  },
  {
   "cell_type": "code",
   "execution_count": null,
   "metadata": {},
   "outputs": [],
   "source": []
  }
 ],
 "metadata": {
  "kernelspec": {
   "display_name": "Python 3",
   "language": "python",
   "name": "python3"
  },
  "language_info": {
   "codemirror_mode": {
    "name": "ipython",
    "version": 3
   },
   "file_extension": ".py",
   "mimetype": "text/x-python",
   "name": "python",
   "nbconvert_exporter": "python",
   "pygments_lexer": "ipython3",
   "version": "3.7.3"
  }
 },
 "nbformat": 4,
 "nbformat_minor": 4
}
