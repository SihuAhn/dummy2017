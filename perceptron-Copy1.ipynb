{
 "cells": [
  {
   "cell_type": "code",
   "execution_count": 23,
   "metadata": {},
   "outputs": [
    {
     "name": "stdout",
     "output_type": "stream",
     "text": [
      "[1 1] ,  [-1] , -1\n",
      "[1 3] ,  [-1] , -1\n",
      "[2 1] ,  [-1] , -1\n",
      "[3 2] ,  [-1] , -1\n",
      "[5 3] ,  [1] , 1\n",
      "[6 3] ,  [1] , 1\n",
      "[6 5] ,  [1] , 1\n",
      "[7 2] ,  [1] , 1\n"
     ]
    }
   ],
   "source": [
    "import numpy as np\n",
    "import random\n",
    "\n",
    "def predict(w, x_i):\n",
    "    answer = np.tensordot(w, x_i, axes=1)\n",
    "    if answer > 0:\n",
    "        answer = 1\n",
    "    elif answer < 0:\n",
    "        answer = -1\n",
    "    return answer\n",
    "\n",
    "def learn(w, x, y):\n",
    "    learning = True\n",
    "    while learning :\n",
    "        learning = False\n",
    "        for x_i,y_i in zip(x,y):\n",
    "            answer = predict(w,x_i)\n",
    "            if y_i != answer:\n",
    "                w=np.add(w,x_i*y_i)\n",
    "                learning = True\n",
    "            \n",
    "    return w\n",
    "\n",
    "x = np.array([[1, 1], [1, 3], [2, 1], [3, 2], [5, 3], [6, 3], [6, 5], [7, 2]])\n",
    "b = np.ones((x.shape[0], 1), dtype = \"int\")\n",
    "x = np.concatenate([b, x], axis=1)\n",
    "y = np.array([-1, -1, -1, -1, 1, 1, 1, 1])\n",
    "y = y.reshape((x.shape[0],1))\n",
    "w = np.random.random(x.shape[1])\n",
    "33\n",
    "w = learn(w, x, y)\n",
    "\n",
    "for x_i,y_i in zip(x, y):\n",
    "    print(x_i[1:],\", \" ,y_i ,\",\" ,predict(w,x_i))"
   ]
  },
  {
   "cell_type": "code",
   "execution_count": null,
   "metadata": {},
   "outputs": [],
   "source": []
  }
 ],
 "metadata": {
  "kernelspec": {
   "display_name": "Python 3",
   "language": "python",
   "name": "python3"
  },
  "language_info": {
   "codemirror_mode": {
    "name": "ipython",
    "version": 3
   },
   "file_extension": ".py",
   "mimetype": "text/x-python",
   "name": "python",
   "nbconvert_exporter": "python",
   "pygments_lexer": "ipython3",
   "version": "3.8.3"
  }
 },
 "nbformat": 4,
 "nbformat_minor": 4
}
