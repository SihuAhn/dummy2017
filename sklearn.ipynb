{
 "cells": [
  {
   "cell_type": "code",
   "execution_count": 3,
   "metadata": {},
   "outputs": [
    {
     "data": {
      "text/plain": [
       "['DESCR', 'data', 'images', 'target', 'target_names']"
      ]
     },
     "execution_count": 3,
     "metadata": {},
     "output_type": "execute_result"
    }
   ],
   "source": [
    "from sklearn import datasets\n",
    "\n",
    "digits = datasets.load_digits()\n",
    "dir(digits)"
   ]
  },
  {
   "cell_type": "code",
   "execution_count": 4,
   "metadata": {},
   "outputs": [
    {
     "data": {
      "text/plain": [
       "(1797, 8, 8)"
      ]
     },
     "execution_count": 4,
     "metadata": {},
     "output_type": "execute_result"
    }
   ],
   "source": [
    "from sklearn import datasets\n",
    "\n",
    "digits = datasets.load_digits()\n",
    "digits.images.shape"
   ]
  },
  {
   "cell_type": "code",
   "execution_count": 5,
   "metadata": {},
   "outputs": [
    {
     "name": "stdout",
     "output_type": "stream",
     "text": [
      "[[ 0.  0.  5. 13.  9.  1.  0.  0.]\n",
      " [ 0.  0. 13. 15. 10. 15.  5.  0.]\n",
      " [ 0.  3. 15.  2.  0. 11.  8.  0.]\n",
      " [ 0.  4. 12.  0.  0.  8.  8.  0.]\n",
      " [ 0.  5.  8.  0.  0.  9.  8.  0.]\n",
      " [ 0.  4. 11.  0.  1. 12.  7.  0.]\n",
      " [ 0.  2. 14.  5. 10. 12.  0.  0.]\n",
      " [ 0.  0.  6. 13. 10.  0.  0.  0.]]\n"
     ]
    }
   ],
   "source": [
    "from sklearn import datasets\n",
    "\n",
    "digits = datasets.load_digits()\n",
    "print(digits.images[0])"
   ]
  },
  {
   "cell_type": "code",
   "execution_count": 18,
   "metadata": {},
   "outputs": [
    {
     "data": {
      "image/png": "[encoded data removed]",
      "text/plain": [
       "<Figure size 432x288 with 1 Axes>"
      ]
     },
     "metadata": {
      "needs_background": "light"
     },
     "output_type": "display_data"
    }
   ],
   "source": [
    "from sklearn import datasets\n",
    "import matplotlib.pyplot as plt\n",
    "\n",
    "digits = datasets.load_digits()\n",
    "plt.imshow(digits.images[500], cmap='binary')\n",
    "plt.show()"
   ]
  },
  {
   "cell_type": "code",
   "execution_count": 17,
   "metadata": {},
   "outputs": [
    {
     "name": "stdout",
     "output_type": "stream",
     "text": [
      "8\n"
     ]
    }
   ],
   "source": [
    "from sklearn import datasets\n",
    "\n",
    "digits = datasets.load_digits()\n",
    "print(digits.target[500])"
   ]
  },
  {
   "cell_type": "code",
   "execution_count": 48,
   "metadata": {},
   "outputs": [
    {
     "data": {
      "image/png": "[encoded data removed]",
      "text/plain": [
       "<Figure size 1080x360 with 10 Axes>"
      ]
     },
     "metadata": {
      "needs_background": "light"
     },
     "output_type": "display_data"
    }
   ],
   "source": [
    "from sklearn import datasets\n",
    "import matplotlib.pyplot as plt\n",
    "\n",
    "digits = datasets.load_digits()\n",
    "\n",
    "fig = plt.figure(figsize=(15,5))\n",
    "for i in range(0,10):\n",
    "    plt.subplot(2,5,i+1)\n",
    "    plt.imshow(digits.images[i], cmap='binary')\n",
    "    plt.title(digits.target[i])\n",
    "    plt.axis('off')\n",
    "plt.show()"
   ]
  },
  {
   "cell_type": "code",
   "execution_count": 21,
   "metadata": {},
   "outputs": [
    {
     "data": {
      "text/plain": [
       "(1797, 64)"
      ]
     },
     "execution_count": 21,
     "metadata": {},
     "output_type": "execute_result"
    }
   ],
   "source": [
    "from sklearn import datasets\n",
    "import matplotlib.pyplot as plt\n",
    "\n",
    "digits = datasets.load_digits()\n",
    "\n",
    "x = digits.images.reshape(digits.images.shape[0],digits.images.shape[1]*digits.images.shape[2])\n",
    "\n",
    "x.shape"
   ]
  },
  {
   "cell_type": "code",
   "execution_count": 49,
   "metadata": {},
   "outputs": [
    {
     "data": {
      "text/plain": [
       "array([ 0.,  0.,  5., 13.,  9.,  1.,  0.,  0.,  0.,  0., 13., 15., 10.,\n",
       "       15.,  5.,  0.,  0.,  3., 15.,  2.,  0., 11.,  8.,  0.,  0.,  4.,\n",
       "       12.,  0.,  0.,  8.,  8.,  0.,  0.,  5.,  8.,  0.,  0.,  9.,  8.,\n",
       "        0.,  0.,  4., 11.,  0.,  1., 12.,  7.,  0.,  0.,  2., 14.,  5.,\n",
       "       10., 12.,  0.,  0.,  0.,  0.,  6., 13., 10.,  0.,  0.,  0.])"
      ]
     },
     "execution_count": 49,
     "metadata": {},
     "output_type": "execute_result"
    }
   ],
   "source": [
    "from sklearn import datasets\n",
    "import matplotlib.pyplot as plt\n",
    "\n",
    "digits = datasets.load_digits()\n",
    "\n",
    "x = digits.images.reshape(digits.images.shape[0],digits.images.shape[1]*digits.images.shape[2])\n",
    "\n",
    "x[0]"
   ]
  },
  {
   "cell_type": "code",
   "execution_count": 50,
   "metadata": {},
   "outputs": [
    {
     "name": "stdout",
     "output_type": "stream",
     "text": [
      "[ 0.  0.  5. 13.  9.  1.  0.  0.  0.  0. 13. 15. 10. 15.  5.  0.  0.  3.\n",
      " 15.  2.  0. 11.  8.  0.  0.  4. 12.  0.  0.  8.  8.  0.  0.  5.  8.  0.\n",
      "  0.  9.  8.  0.  0.  4. 11.  0.  1. 12.  7.  0.  0.  2. 14.  5. 10. 12.\n",
      "  0.  0.  0.  0.  6. 13. 10.  0.  0.  0.] 0\n"
     ]
    }
   ],
   "source": [
    "from sklearn import datasets\n",
    "import matplotlib.pyplot as plt\n",
    "\n",
    "digits = datasets.load_digits()\n",
    "\n",
    "x = digits.images.reshape(digits.images.shape[0],digits.images.shape[1]*digits.images.shape[2])\n",
    "\n",
    "y = digits.target\n",
    "print(x[0],y[0])"
   ]
  },
  {
   "cell_type": "code",
   "execution_count": 2,
   "metadata": {},
   "outputs": [],
   "source": [
    "from sklearn import datasets\n",
    "import matplotlib.pyplot as plt\n",
    "\n",
    "digits = datasets.load_digits()\n",
    "\n",
    "x = digits.images.reshape(digits.images.shape[0],digits.images.shape[1]*digits.images.shape[2])\n",
    "\n",
    "y = digits.target\n",
    "\n",
    "x_train = x[:1000]\n",
    "y_train = y[:1000]\n",
    "x_test = x[1000:]\n",
    "y_test = y[1000:]"
   ]
  },
  {
   "cell_type": "code",
   "execution_count": 3,
   "metadata": {},
   "outputs": [
    {
     "name": "stdout",
     "output_type": "stream",
     "text": [
      "Iteration 1, loss = 2.30766655\n",
      "Iteration 2, loss = 1.96993547\n",
      "Iteration 3, loss = 1.66324184\n",
      "Iteration 4, loss = 1.34870214\n",
      "Iteration 5, loss = 1.04843578\n",
      "Iteration 6, loss = 0.80462196\n",
      "Iteration 7, loss = 0.62411054\n",
      "Iteration 8, loss = 0.48766305\n",
      "Iteration 9, loss = 0.39243711\n",
      "Iteration 10, loss = 0.32322104\n",
      "Iteration 11, loss = 0.27263614\n",
      "Iteration 12, loss = 0.23851591\n",
      "Iteration 13, loss = 0.20371983\n",
      "Iteration 14, loss = 0.18221481\n",
      "Iteration 15, loss = 0.16331579\n",
      "Iteration 16, loss = 0.14993457\n",
      "Iteration 17, loss = 0.13601040\n",
      "Iteration 18, loss = 0.12578396\n",
      "Iteration 19, loss = 0.11754682\n",
      "Iteration 20, loss = 0.11052484\n",
      "Iteration 21, loss = 0.10307738\n",
      "Iteration 22, loss = 0.09742174\n",
      "Iteration 23, loss = 0.09005674\n",
      "Iteration 24, loss = 0.08751715\n",
      "Iteration 25, loss = 0.08197002\n",
      "Iteration 26, loss = 0.07751833\n",
      "Iteration 27, loss = 0.07462666\n",
      "Iteration 28, loss = 0.07123202\n",
      "Iteration 29, loss = 0.06850620\n",
      "Iteration 30, loss = 0.06586470\n",
      "Iteration 31, loss = 0.06238709\n",
      "Iteration 32, loss = 0.06027635\n",
      "Iteration 33, loss = 0.05940902\n",
      "Iteration 34, loss = 0.05675545\n",
      "Iteration 35, loss = 0.05472771\n",
      "Iteration 36, loss = 0.05300375\n",
      "Iteration 37, loss = 0.05108103\n",
      "Iteration 38, loss = 0.04967307\n",
      "Iteration 39, loss = 0.04879717\n",
      "Iteration 40, loss = 0.04688088\n",
      "Iteration 41, loss = 0.04577624\n",
      "Iteration 42, loss = 0.04396556\n",
      "Iteration 43, loss = 0.04271009\n",
      "Iteration 44, loss = 0.04170434\n",
      "Iteration 45, loss = 0.04047899\n",
      "Iteration 46, loss = 0.03957478\n",
      "Iteration 47, loss = 0.03857923\n",
      "Iteration 48, loss = 0.03756082\n",
      "Iteration 49, loss = 0.03700335\n",
      "Iteration 50, loss = 0.03573216\n",
      "Iteration 51, loss = 0.03531760\n",
      "Iteration 52, loss = 0.03425517\n",
      "Iteration 53, loss = 0.03347301\n",
      "Iteration 54, loss = 0.03322227\n",
      "Iteration 55, loss = 0.03231040\n",
      "Iteration 56, loss = 0.03168497\n",
      "Iteration 57, loss = 0.03097878\n",
      "Iteration 58, loss = 0.03045831\n",
      "Iteration 59, loss = 0.02966679\n",
      "Iteration 60, loss = 0.02929106\n",
      "Iteration 61, loss = 0.02869613\n",
      "Iteration 62, loss = 0.02843302\n",
      "Iteration 63, loss = 0.02778357\n",
      "Iteration 64, loss = 0.02762447\n",
      "Iteration 65, loss = 0.02675909\n",
      "Iteration 66, loss = 0.02640284\n",
      "Iteration 67, loss = 0.02593005\n",
      "Iteration 68, loss = 0.02562886\n",
      "Iteration 69, loss = 0.02529169\n",
      "Iteration 70, loss = 0.02486895\n",
      "Iteration 71, loss = 0.02458279\n",
      "Iteration 72, loss = 0.02416639\n",
      "Iteration 73, loss = 0.02384323\n",
      "Iteration 74, loss = 0.02352451\n",
      "Iteration 75, loss = 0.02315170\n",
      "Iteration 76, loss = 0.02280309\n",
      "Iteration 77, loss = 0.02253637\n",
      "Iteration 78, loss = 0.02225613\n",
      "Iteration 79, loss = 0.02199094\n",
      "Iteration 80, loss = 0.02160732\n",
      "Iteration 81, loss = 0.02134530\n",
      "Iteration 82, loss = 0.02107936\n",
      "Iteration 83, loss = 0.02086948\n",
      "Iteration 84, loss = 0.02051469\n",
      "Iteration 85, loss = 0.02035700\n",
      "Iteration 86, loss = 0.02015284\n",
      "Iteration 87, loss = 0.02001088\n",
      "Iteration 88, loss = 0.01959916\n",
      "Iteration 89, loss = 0.01938436\n",
      "Iteration 90, loss = 0.01922011\n",
      "Iteration 91, loss = 0.01892668\n",
      "Iteration 92, loss = 0.01878500\n",
      "Iteration 93, loss = 0.01856578\n",
      "Iteration 94, loss = 0.01846124\n",
      "Iteration 95, loss = 0.01820588\n",
      "Iteration 96, loss = 0.01798343\n",
      "Iteration 97, loss = 0.01774091\n",
      "Iteration 98, loss = 0.01757575\n",
      "Iteration 99, loss = 0.01736589\n",
      "Iteration 100, loss = 0.01718905\n",
      "Iteration 101, loss = 0.01702673\n",
      "Iteration 102, loss = 0.01693141\n",
      "Iteration 103, loss = 0.01676703\n",
      "Iteration 104, loss = 0.01650689\n",
      "Iteration 105, loss = 0.01641465\n",
      "Iteration 106, loss = 0.01625499\n",
      "Iteration 107, loss = 0.01608674\n",
      "Iteration 108, loss = 0.01597357\n",
      "Iteration 109, loss = 0.01578612\n",
      "Iteration 110, loss = 0.01565347\n",
      "Iteration 111, loss = 0.01553182\n",
      "Iteration 112, loss = 0.01537647\n",
      "Iteration 113, loss = 0.01523000\n",
      "Iteration 114, loss = 0.01510311\n",
      "Iteration 115, loss = 0.01500527\n",
      "Iteration 116, loss = 0.01484484\n",
      "Iteration 117, loss = 0.01474526\n",
      "Iteration 118, loss = 0.01457802\n",
      "Iteration 119, loss = 0.01446377\n",
      "Iteration 120, loss = 0.01434391\n",
      "Iteration 121, loss = 0.01426704\n",
      "Iteration 122, loss = 0.01410824\n",
      "Iteration 123, loss = 0.01399775\n",
      "Iteration 124, loss = 0.01393268\n",
      "Iteration 125, loss = 0.01377770\n",
      "Iteration 126, loss = 0.01371455\n",
      "Iteration 127, loss = 0.01361901\n",
      "Iteration 128, loss = 0.01348885\n",
      "Iteration 129, loss = 0.01337471\n",
      "Iteration 130, loss = 0.01329534\n",
      "Iteration 131, loss = 0.01319161\n",
      "Iteration 132, loss = 0.01307325\n",
      "Iteration 133, loss = 0.01297361\n",
      "Iteration 134, loss = 0.01290154\n",
      "Iteration 135, loss = 0.01280245\n",
      "Iteration 136, loss = 0.01271681\n",
      "Iteration 137, loss = 0.01262171\n",
      "Iteration 138, loss = 0.01256931\n",
      "Iteration 139, loss = 0.01244187\n",
      "Iteration 140, loss = 0.01234056\n",
      "Iteration 141, loss = 0.01225679\n",
      "Iteration 142, loss = 0.01222734\n",
      "Iteration 143, loss = 0.01210771\n",
      "Iteration 144, loss = 0.01210701\n",
      "Iteration 145, loss = 0.01193333\n",
      "Iteration 146, loss = 0.01187697\n",
      "Iteration 147, loss = 0.01179767\n",
      "Iteration 148, loss = 0.01169855\n",
      "Iteration 149, loss = 0.01164048\n",
      "Iteration 150, loss = 0.01156064\n",
      "Iteration 151, loss = 0.01148959\n",
      "Iteration 152, loss = 0.01138028\n",
      "Iteration 153, loss = 0.01132211\n",
      "Iteration 154, loss = 0.01129986\n",
      "Iteration 155, loss = 0.01117716\n",
      "Iteration 156, loss = 0.01113350\n",
      "Iteration 157, loss = 0.01105647\n",
      "Iteration 158, loss = 0.01104004\n",
      "Iteration 159, loss = 0.01092258\n",
      "Iteration 160, loss = 0.01084161\n",
      "Iteration 161, loss = 0.01079572\n",
      "Iteration 162, loss = 0.01072445\n",
      "Iteration 163, loss = 0.01064291\n",
      "Iteration 164, loss = 0.01059034\n",
      "Iteration 165, loss = 0.01055622\n",
      "Iteration 166, loss = 0.01047092\n",
      "Iteration 167, loss = 0.01043451\n",
      "Iteration 168, loss = 0.01035355\n",
      "Iteration 169, loss = 0.01027127\n",
      "Iteration 170, loss = 0.01025827\n",
      "Training loss did not improve more than tol=0.000100 for 10 consecutive epochs. Stopping.\n"
     ]
    },
    {
     "data": {
      "text/plain": [
       "MLPClassifier(activation='logistic', alpha=0.0001, batch_size='auto',\n",
       "       beta_1=0.9, beta_2=0.999, early_stopping=False, epsilon=1e-08,\n",
       "       hidden_layer_sizes=(15,), learning_rate='constant',\n",
       "       learning_rate_init=0.1, max_iter=200, momentum=0.9,\n",
       "       n_iter_no_change=10, nesterovs_momentum=True, power_t=0.5,\n",
       "       random_state=None, shuffle=True, solver='sgd', tol=0.0001,\n",
       "       validation_fraction=0.1, verbose=True, warm_start=False)"
      ]
     },
     "execution_count": 3,
     "metadata": {},
     "output_type": "execute_result"
    }
   ],
   "source": [
    "from sklearn.neural_network import MLPClassifier\n",
    "\n",
    "mlp = MLPClassifier(hidden_layer_sizes=(15,),\n",
    "                    activation = 'logistic',\n",
    "                    solver = 'sgd',\n",
    "                    tol = 1e-4,\n",
    "                    learning_rate_init = .1,\n",
    "                    verbose=True)\n",
    "\n",
    "mlp.fit(x_train, y_train)"
   ]
  },
  {
   "cell_type": "code",
   "execution_count": 63,
   "metadata": {},
   "outputs": [
    {
     "name": "stdout",
     "output_type": "stream",
     "text": [
      "[1 4 0 5 3 6 9 6 1 7]\n",
      "[1 4 0 5 3 6 9 6 1 7]\n"
     ]
    }
   ],
   "source": [
    "\n",
    "predictions = mlp.predict(x_test)\n",
    "print(predictions[:10])\n",
    "print(y_test[:10])"
   ]
  },
  {
   "cell_type": "code",
   "execution_count": 64,
   "metadata": {},
   "outputs": [
    {
     "data": {
      "text/html": [
       "<div>\n",
       "<style scoped>\n",
       "    .dataframe tbody tr th:only-of-type {\n",
       "        vertical-align: middle;\n",
       "    }\n",
       "\n",
       "    .dataframe tbody tr th {\n",
       "        vertical-align: top;\n",
       "    }\n",
       "\n",
       "    .dataframe thead th {\n",
       "        text-align: right;\n",
       "    }\n",
       "</style>\n",
       "<table border=\"1\" class=\"dataframe\">\n",
       "  <thead>\n",
       "    <tr style=\"text-align: right;\">\n",
       "      <th>Predicted</th>\n",
       "      <th>0</th>\n",
       "      <th>1</th>\n",
       "      <th>2</th>\n",
       "      <th>3</th>\n",
       "      <th>4</th>\n",
       "      <th>5</th>\n",
       "      <th>6</th>\n",
       "      <th>7</th>\n",
       "      <th>8</th>\n",
       "      <th>9</th>\n",
       "      <th>All</th>\n",
       "    </tr>\n",
       "    <tr>\n",
       "      <th>True</th>\n",
       "      <th></th>\n",
       "      <th></th>\n",
       "      <th></th>\n",
       "      <th></th>\n",
       "      <th></th>\n",
       "      <th></th>\n",
       "      <th></th>\n",
       "      <th></th>\n",
       "      <th></th>\n",
       "      <th></th>\n",
       "      <th></th>\n",
       "    </tr>\n",
       "  </thead>\n",
       "  <tbody>\n",
       "    <tr>\n",
       "      <th>0</th>\n",
       "      <td>76</td>\n",
       "      <td>0</td>\n",
       "      <td>0</td>\n",
       "      <td>0</td>\n",
       "      <td>0</td>\n",
       "      <td>1</td>\n",
       "      <td>1</td>\n",
       "      <td>0</td>\n",
       "      <td>1</td>\n",
       "      <td>0</td>\n",
       "      <td>79</td>\n",
       "    </tr>\n",
       "    <tr>\n",
       "      <th>1</th>\n",
       "      <td>0</td>\n",
       "      <td>69</td>\n",
       "      <td>0</td>\n",
       "      <td>1</td>\n",
       "      <td>1</td>\n",
       "      <td>0</td>\n",
       "      <td>0</td>\n",
       "      <td>0</td>\n",
       "      <td>4</td>\n",
       "      <td>5</td>\n",
       "      <td>80</td>\n",
       "    </tr>\n",
       "    <tr>\n",
       "      <th>2</th>\n",
       "      <td>2</td>\n",
       "      <td>0</td>\n",
       "      <td>71</td>\n",
       "      <td>2</td>\n",
       "      <td>0</td>\n",
       "      <td>0</td>\n",
       "      <td>0</td>\n",
       "      <td>1</td>\n",
       "      <td>1</td>\n",
       "      <td>0</td>\n",
       "      <td>77</td>\n",
       "    </tr>\n",
       "    <tr>\n",
       "      <th>3</th>\n",
       "      <td>0</td>\n",
       "      <td>2</td>\n",
       "      <td>1</td>\n",
       "      <td>66</td>\n",
       "      <td>0</td>\n",
       "      <td>4</td>\n",
       "      <td>0</td>\n",
       "      <td>4</td>\n",
       "      <td>2</td>\n",
       "      <td>0</td>\n",
       "      <td>79</td>\n",
       "    </tr>\n",
       "    <tr>\n",
       "      <th>4</th>\n",
       "      <td>0</td>\n",
       "      <td>3</td>\n",
       "      <td>0</td>\n",
       "      <td>0</td>\n",
       "      <td>78</td>\n",
       "      <td>0</td>\n",
       "      <td>2</td>\n",
       "      <td>0</td>\n",
       "      <td>0</td>\n",
       "      <td>0</td>\n",
       "      <td>83</td>\n",
       "    </tr>\n",
       "    <tr>\n",
       "      <th>5</th>\n",
       "      <td>0</td>\n",
       "      <td>0</td>\n",
       "      <td>0</td>\n",
       "      <td>0</td>\n",
       "      <td>2</td>\n",
       "      <td>79</td>\n",
       "      <td>1</td>\n",
       "      <td>0</td>\n",
       "      <td>0</td>\n",
       "      <td>0</td>\n",
       "      <td>82</td>\n",
       "    </tr>\n",
       "    <tr>\n",
       "      <th>6</th>\n",
       "      <td>0</td>\n",
       "      <td>1</td>\n",
       "      <td>0</td>\n",
       "      <td>0</td>\n",
       "      <td>0</td>\n",
       "      <td>0</td>\n",
       "      <td>79</td>\n",
       "      <td>0</td>\n",
       "      <td>0</td>\n",
       "      <td>0</td>\n",
       "      <td>80</td>\n",
       "    </tr>\n",
       "    <tr>\n",
       "      <th>7</th>\n",
       "      <td>0</td>\n",
       "      <td>1</td>\n",
       "      <td>0</td>\n",
       "      <td>0</td>\n",
       "      <td>1</td>\n",
       "      <td>0</td>\n",
       "      <td>0</td>\n",
       "      <td>77</td>\n",
       "      <td>0</td>\n",
       "      <td>1</td>\n",
       "      <td>80</td>\n",
       "    </tr>\n",
       "    <tr>\n",
       "      <th>8</th>\n",
       "      <td>0</td>\n",
       "      <td>8</td>\n",
       "      <td>0</td>\n",
       "      <td>1</td>\n",
       "      <td>0</td>\n",
       "      <td>3</td>\n",
       "      <td>0</td>\n",
       "      <td>2</td>\n",
       "      <td>61</td>\n",
       "      <td>1</td>\n",
       "      <td>76</td>\n",
       "    </tr>\n",
       "    <tr>\n",
       "      <th>9</th>\n",
       "      <td>1</td>\n",
       "      <td>0</td>\n",
       "      <td>0</td>\n",
       "      <td>3</td>\n",
       "      <td>0</td>\n",
       "      <td>1</td>\n",
       "      <td>0</td>\n",
       "      <td>0</td>\n",
       "      <td>0</td>\n",
       "      <td>76</td>\n",
       "      <td>81</td>\n",
       "    </tr>\n",
       "    <tr>\n",
       "      <th>All</th>\n",
       "      <td>79</td>\n",
       "      <td>84</td>\n",
       "      <td>72</td>\n",
       "      <td>73</td>\n",
       "      <td>82</td>\n",
       "      <td>88</td>\n",
       "      <td>83</td>\n",
       "      <td>84</td>\n",
       "      <td>69</td>\n",
       "      <td>83</td>\n",
       "      <td>797</td>\n",
       "    </tr>\n",
       "  </tbody>\n",
       "</table>\n",
       "</div>"
      ],
      "text/plain": [
       "Predicted   0   1   2   3   4   5   6   7   8   9  All\n",
       "True                                                  \n",
       "0          76   0   0   0   0   1   1   0   1   0   79\n",
       "1           0  69   0   1   1   0   0   0   4   5   80\n",
       "2           2   0  71   2   0   0   0   1   1   0   77\n",
       "3           0   2   1  66   0   4   0   4   2   0   79\n",
       "4           0   3   0   0  78   0   2   0   0   0   83\n",
       "5           0   0   0   0   2  79   1   0   0   0   82\n",
       "6           0   1   0   0   0   0  79   0   0   0   80\n",
       "7           0   1   0   0   1   0   0  77   0   1   80\n",
       "8           0   8   0   1   0   3   0   2  61   1   76\n",
       "9           1   0   0   3   0   1   0   0   0  76   81\n",
       "All        79  84  72  73  82  88  83  84  69  83  797"
      ]
     },
     "execution_count": 64,
     "metadata": {},
     "output_type": "execute_result"
    }
   ],
   "source": [
    "import pandas as pd\n",
    "pd.crosstab(y_test, predictions, rownames=['True'], colnames = ['Predicted'], margins=True)"
   ]
  },
  {
   "cell_type": "code",
   "execution_count": 69,
   "metadata": {},
   "outputs": [
    {
     "name": "stdout",
     "output_type": "stream",
     "text": [
      "[1288, 1471, 1485, 1495, 1514]\n"
     ]
    }
   ],
   "source": [
    "# from sklearn import datasets\n",
    "# import matplotlib.pyplot as plt\n",
    "\n",
    "\n",
    "# while True:\n",
    "#     if y_test==1 and predictions==9:\n",
    "#         plt.imshow(digits.images[y_test.getfield], cmap='binary')\n",
    "#         plt.title(y_test)\n",
    "#         plt.axis('off')\n",
    "# plt.show()\n",
    "\n",
    "a = []\n",
    "for i in range(0, len(y_test)):\n",
    "    if y_test[i] == 1 and predictions[i] == 9:\n",
    "        a.append(i+1000)\n",
    "print(a)\n",
    "#     print(str(y_test[i]) + \" : \" + str(predictions[i] ))\n"
   ]
  },
  {
   "cell_type": "code",
   "execution_count": 74,
   "metadata": {},
   "outputs": [
    {
     "data": {
      "image/png": "[encoded data removed]",
      "text/plain": [
       "<Figure size 1080x360 with 5 Axes>"
      ]
     },
     "metadata": {
      "needs_background": "light"
     },
     "output_type": "display_data"
    }
   ],
   "source": [
    "from sklearn import datasets\n",
    "import matplotlib.pyplot as plt\n",
    "\n",
    "digits = datasets.load_digits()\n",
    "\n",
    "fig = plt.figure(figsize=(15,5))\n",
    "for i in range(0,len(a)):\n",
    "    plt.subplot(1,5,i+1)\n",
    "    plt.imshow(digits.images[a[i]], cmap='binary')\n",
    "    plt.title(digits.target[a[i]])\n",
    "    plt.axis('off')\n",
    "plt.show()"
   ]
  },
  {
   "cell_type": "code",
   "execution_count": null,
   "metadata": {},
   "outputs": [],
   "source": []
  }
 ],
 "metadata": {
  "kernelspec": {
   "display_name": "Python 3",
   "language": "python",
   "name": "python3"
  },
  "language_info": {
   "codemirror_mode": {
    "name": "ipython",
    "version": 3
   },
   "file_extension": ".py",
   "mimetype": "text/x-python",
   "name": "python",
   "nbconvert_exporter": "python",
   "pygments_lexer": "ipython3",
   "version": "3.8.3"
  }
 },
 "nbformat": 4,
 "nbformat_minor": 4
}
