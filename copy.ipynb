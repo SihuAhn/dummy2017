{
 "cells": [
  {
   "cell_type": "code",
   "execution_count": 11,
   "metadata": {},
   "outputs": [],
   "source": [
    "# load breaset cancer data\n",
    "# from sklearn.datasets import load_breast_cancer\n",
    "\n",
    "# cancer = load_breast_cancer()\n",
    "# print(dir(cancer))\n",
    "# print(cancer.DESCR)\n",
    "# print(cancer.feature_names)\n",
    "# print(cancer.data[0])\n",
    "# print(cancer.target_names)\n",
    "# print(cancer.target)"
   ]
  },
  {
   "cell_type": "markdown",
   "metadata": {},
   "source": [
    "# 유방암 진단 데이터 호출 및 트레이닝 데이터와 테스트 데이터로 분류"
   ]
  },
  {
   "cell_type": "code",
   "execution_count": 17,
   "metadata": {},
   "outputs": [],
   "source": [
    "from sklearn.datasets import load_breast_cancer #sklearn datasets의 유방암 진단 데이터 호출\n",
    "import pandas as pd #pandas를 호출하고 pd로 정의\n",
    "import numpy as np #numpy를 호출하고 np로 정의\n",
    "from sklearn.model_selection import train_test_split\n",
    "\n",
    "cancer = load_breast_cancer()\n",
    "\n",
    "data = pd.DataFrame(np.c_[cancer[\"data\"], cancer[\"target\"]],\n",
    "                    columns = np.append(cancer['feature_names'], [\"target\"]))\n",
    "\n",
    "X = data.drop([\"target\"], axis=1) #target을 제외한 feature들을 X에 저장\n",
    "y = data[\"target\"].astype(int) #target을 y에 저장\n",
    "X_train, X_test, y_train, y_test = train_test_split(X, y, test_size=0.3, random_state=0) # train data와 test data를 7:3으로 나누고 random 값 고정\n",
    "\n",
    "# features의 scale 설정\n",
    "from sklearn.preprocessing import StandardScaler\n",
    "\n",
    "sc = StandardScaler()\n",
    "a = X_train\n",
    "X_train_fit = sc.fit_transform(a)\n",
    "b = X_test\n",
    "X_test_fit = sc.fit_transform(b)"
   ]
  },
  {
   "cell_type": "markdown",
   "metadata": {},
   "source": [
    "## DecisionTree 기반 모델 기본 버전"
   ]
  },
  {
   "cell_type": "code",
   "execution_count": 18,
   "metadata": {},
   "outputs": [
    {
     "name": "stdout",
     "output_type": "stream",
     "text": [
      "DecisionTree 기반 모델 결과(f1_score) : 0.9245283018867925\n"
     ]
    }
   ],
   "source": [
    "#DecisionTree 기반 모델\n",
    "from sklearn.tree import DecisionTreeClassifier\n",
    "\n",
    "dtc = DecisionTreeClassifier(random_state = 0) #dtc 머신 생성\n",
    "dtc.fit(X_train_fit, y_train) \n",
    "y_pred = dtc.predict(X_test_fit) #머신의 예측값\n",
    "\n",
    "# sklearn.metrics의 f1_score를 통해 DecisionTree 기반 모델 결과 확인\n",
    "from sklearn.metrics import f1_score\n",
    "print(\"DecisionTree 기반 모델 결과(f1_score) : \",end=\"\")\n",
    "print(f1_score(y_test, y_pred, average='binary'))\n"
   ]
  },
  {
   "cell_type": "markdown",
   "metadata": {},
   "source": [
    "## RandomForest 기반 모델 기본 버전"
   ]
  },
  {
   "cell_type": "code",
   "execution_count": 19,
   "metadata": {},
   "outputs": [
    {
     "name": "stdout",
     "output_type": "stream",
     "text": [
      "RandomForest 기반 모델 결과(f1_score) : 0.9719626168224299\n"
     ]
    }
   ],
   "source": [
    "#RandomForest 기반 모델\n",
    "from sklearn.ensemble import RandomForestClassifier\n",
    "\n",
    "rfc = RandomForestClassifier(n_estimators=100, #n_estimators 없이 실행시 에러메시지가 뜨고 n_estimators의 기본값은 100이라고 안내해줌\n",
    "                             random_state=0)\n",
    "rfc.fit(X_train_fit, y_train)\n",
    "y_pred = rfc.predict(X_test_fit)\n",
    "\n",
    "from sklearn.metrics import f1_score\n",
    "print(\"RandomForest 기반 모델 결과(f1_score) : \",end=\"\")\n",
    "print(f1_score(y_test, y_pred, average='binary'))"
   ]
  },
  {
   "cell_type": "markdown",
   "metadata": {},
   "source": [
    "## Perceptron 기반 모델 기본 버전"
   ]
  },
  {
   "cell_type": "code",
   "execution_count": 92,
   "metadata": {},
   "outputs": [
    {
     "name": "stdout",
     "output_type": "stream",
     "text": [
      "Perceptron 기반 모델 결과(f1_score) : 0.9473684210526315\n"
     ]
    }
   ],
   "source": [
    "#Perceptron 기반 모델\n",
    "from sklearn.linear_model import Perceptron\n",
    "\n",
    "pc = Perceptron(tol=1e-3, #tol 없이 실행시 에러메시지가 뜨고 tol의 기본값은 3이라고 안내해줌\n",
    "                random_state=0)\n",
    "pc.fit(X_train_fit, y_train)\n",
    "y_pred = pc.predict(X_test_fit)\n",
    "\n",
    "from sklearn.metrics import f1_score\n",
    "print(\"Perceptron 기반 모델 결과(f1_score) : \",end=\"\")\n",
    "print(f1_score(y_test, y_pred, average='binary'))"
   ]
  },
  {
   "cell_type": "markdown",
   "metadata": {},
   "source": [
    "## Multi Layer Preceptron 기반 모델 기본 버전"
   ]
  },
  {
   "cell_type": "code",
   "execution_count": 4,
   "metadata": {},
   "outputs": [
    {
     "name": "stdout",
     "output_type": "stream",
     "text": [
      "MLP 기반 모델 결과(f1_score) : 0.9478672985781991\n"
     ]
    }
   ],
   "source": [
    "from sklearn.neural_network import MLPClassifier\n",
    "\n",
    "mc = MLPClassifier(solver='lbfgs',\n",
    "                   random_state=0)\n",
    "mc.fit(X_train_fit, y_train)\n",
    "\n",
    "from sklearn.metrics import confusion_matrix\n",
    "y_pred = mc.predict(X_test_fit)\n",
    "confusion_matrix(y_test, y_pred)\n",
    "\n",
    "from sklearn.metrics import f1_score\n",
    "print(\"MLP 기반 모델 결과(f1_score) : \",end=\"\")\n",
    "print(f1_score(y_test, y_pred, average='binary'))"
   ]
  },
  {
   "cell_type": "code",
   "execution_count": null,
   "metadata": {},
   "outputs": [],
   "source": []
  },
  {
   "cell_type": "markdown",
   "metadata": {},
   "source": [
    "## Multi Layer Preceptron 기반 모델 좋은 성능을 내는 hidden_layer_sizes 구하기(99.1%이상)\n"
   ]
  },
  {
   "cell_type": "code",
   "execution_count": 114,
   "metadata": {},
   "outputs": [
    {
     "name": "stdout",
     "output_type": "stream",
     "text": [
      "1  /  6 / 14 / 4\n",
      "1  /  10 / 16 / 4\n",
      "1  /  11 / 22 / 3\n",
      "1  /  20 / 20 / 20\n",
      "2  /  18 / 9 / 11\n",
      "2  /  21 / 5 / 19\n",
      "3  /  2 / 4 / 8\n",
      "3  /  11 / 15 / 2\n",
      "3  /  14 / 3 / 21\n",
      "3  /  20 / 22 / 13\n",
      "3  /  25 / 23 / 1\n",
      "4  /  3 / 1 / 20\n",
      "4  /  3 / 19 / 4\n",
      "4  /  5 / 14 / 4\n",
      "4  /  5 / 18 / 30\n",
      "4  /  10 / 3 / 13\n",
      "4  /  12 / 3 / 21\n",
      "4  /  19 / 26 / 2\n",
      "4  /  22 / 28 / 23\n",
      "4  /  23 / 9 / 19\n",
      "4  /  23 / 19 / 10\n",
      "4  /  24 / 6 / 23\n",
      "4  /  25 / 17 / 8\n",
      "4  /  26 / 26 / 19\n",
      "4  /  27 / 16 / 24\n",
      "4  /  29 / 14 / 27\n",
      "5  /  1 / 16 / 15\n",
      "5  /  1 / 30 / 7\n",
      "5  /  6 / 1 / 3\n",
      "5  /  12 / 20 / 2\n",
      "5  /  13 / 6 / 2\n",
      "5  /  14 / 12 / 29\n",
      "5  /  16 / 14 / 5\n",
      "5  /  19 / 5 / 13\n",
      "6  /  7 / 30 / 23\n",
      "6  /  10 / 2 / 26\n",
      "6  /  15 / 19 / 15\n",
      "6  /  15 / 19 / 15 will make 100%AI\n",
      "6  /  19 / 3 / 10\n",
      "7  /  5 / 1 / 29\n",
      "7  /  6 / 1 / 16\n",
      "7  /  6 / 26 / 4\n",
      "7  /  7 / 28 / 23\n",
      "7  /  8 / 3 / 16\n",
      "7  /  8 / 23 / 3\n",
      "7  /  13 / 10 / 3\n",
      "7  /  13 / 13 / 6\n",
      "7  /  16 / 5 / 30\n",
      "7  /  16 / 20 / 10\n",
      "7  /  17 / 5 / 20\n",
      "7  /  18 / 4 / 8\n",
      "7  /  20 / 16 / 4\n",
      "7  /  22 / 28 / 8\n",
      "7  /  24 / 9 / 9\n",
      "7  /  29 / 29 / 25\n",
      "8  /  1 / 5 / 6\n",
      "8  /  2 / 8 / 15\n",
      "8  /  6 / 14 / 22\n",
      "8  /  11 / 14 / 20\n",
      "8  /  12 / 20 / 29\n",
      "8  /  14 / 7 / 10\n",
      "8  /  14 / 13 / 14\n",
      "9  /  7 / 22 / 5\n",
      "9  /  11 / 5 / 20\n",
      "9  /  11 / 5 / 20 will make 100%AI\n",
      "10  /  7 / 2 / 14\n",
      "10  /  18 / 1 / 25\n",
      "11  /  5 / 17 / 24\n",
      "11  /  6 / 22 / 12\n",
      "11  /  12 / 6 / 8\n",
      "11  /  14 / 1 / 11\n",
      "11  /  16 / 15 / 28\n",
      "11  /  23 / 1 / 18\n",
      "11  /  26 / 5 / 19\n",
      "11  /  27 / 15 / 21\n",
      "11  /  29 / 27 / 22\n",
      "12  /  1 / 12 / 27\n",
      "12  /  2 / 14 / 10\n",
      "12  /  2 / 16 / 21\n",
      "12  /  2 / 23 / 21\n",
      "12  /  2 / 30 / 10\n",
      "12  /  4 / 8 / 12\n",
      "12  /  4 / 20 / 18\n",
      "12  /  5 / 17 / 16\n",
      "12  /  5 / 23 / 21\n",
      "12  /  5 / 28 / 5\n",
      "12  /  6 / 28 / 23\n",
      "12  /  9 / 18 / 1\n",
      "12  /  9 / 21 / 10\n",
      "12  /  11 / 19 / 13\n",
      "12  /  11 / 19 / 13 will make 100%AI\n",
      "12  /  11 / 28 / 22\n",
      "12  /  12 / 7 / 25\n",
      "12  /  12 / 14 / 22\n",
      "12  /  12 / 24 / 15\n",
      "12  /  14 / 23 / 8\n",
      "12  /  14 / 23 / 8 will make 100%AI\n",
      "12  /  19 / 22 / 19\n",
      "12  /  20 / 3 / 20\n",
      "12  /  21 / 13 / 2\n",
      "12  /  26 / 15 / 12\n",
      "12  /  26 / 16 / 8\n",
      "12  /  27 / 10 / 16\n",
      "12  /  28 / 11 / 10\n",
      "13  /  2 / 1 / 19\n",
      "13  /  6 / 9 / 14\n",
      "13  /  21 / 6 / 18\n",
      "13  /  30 / 13 / 24\n",
      "14  /  6 / 4 / 13\n",
      "14  /  17 / 26 / 21\n",
      "14  /  19 / 9 / 26\n",
      "14  /  22 / 26 / 1\n",
      "14  /  26 / 9 / 15\n",
      "14  /  26 / 16 / 24\n",
      "15  /  3 / 13 / 8\n",
      "15  /  4 / 6 / 4\n",
      "15  /  25 / 4 / 30\n",
      "15  /  25 / 6 / 19\n",
      "15  /  25 / 6 / 19 will make 100%AI\n",
      "15  /  28 / 28 / 6\n",
      "16  /  4 / 13 / 7\n",
      "16  /  4 / 13 / 21\n",
      "16  /  5 / 10 / 16\n",
      "16  /  7 / 13 / 26\n",
      "16  /  7 / 15 / 29\n",
      "16  /  9 / 2 / 16\n",
      "16  /  9 / 23 / 7\n",
      "16  /  10 / 6 / 5\n",
      "16  /  10 / 6 / 30\n",
      "16  /  10 / 15 / 8\n",
      "16  /  10 / 27 / 14\n",
      "16  /  17 / 27 / 3\n",
      "17  /  1 / 18 / 7\n",
      "17  /  4 / 10 / 15\n",
      "17  /  4 / 14 / 19\n",
      "17  /  5 / 27 / 2\n",
      "17  /  10 / 15 / 10\n",
      "17  /  11 / 6 / 7\n",
      "17  /  12 / 18 / 22\n",
      "17  /  12 / 18 / 22 will make 100%AI\n",
      "17  /  21 / 5 / 30\n",
      "17  /  25 / 3 / 29\n",
      "17  /  27 / 21 / 16\n",
      "18  /  2 / 23 / 25\n",
      "18  /  3 / 6 / 20\n",
      "18  /  4 / 18 / 26\n",
      "18  /  5 / 8 / 25\n",
      "18  /  10 / 22 / 4\n",
      "18  /  11 / 18 / 9\n",
      "18  /  12 / 9 / 15\n",
      "18  /  12 / 25 / 6\n",
      "18  /  15 / 19 / 10\n",
      "18  /  16 / 7 / 21\n",
      "18  /  16 / 8 / 20\n",
      "18  /  16 / 15 / 27\n",
      "18  /  17 / 19 / 25\n",
      "18  /  20 / 25 / 6\n",
      "18  /  21 / 1 / 26\n",
      "18  /  24 / 20 / 8\n",
      "18  /  24 / 24 / 9\n",
      "19  /  2 / 8 / 30\n",
      "19  /  2 / 13 / 21\n",
      "19  /  2 / 29 / 14\n",
      "19  /  3 / 2 / 23\n",
      "19  /  3 / 27 / 3\n",
      "19  /  3 / 30 / 29\n",
      "19  /  4 / 16 / 26\n",
      "19  /  4 / 26 / 5\n",
      "19  /  4 / 28 / 1\n",
      "19  /  6 / 20 / 8\n",
      "19  /  10 / 12 / 2\n",
      "19  /  10 / 17 / 24\n",
      "19  /  16 / 1 / 13\n",
      "19  /  16 / 3 / 8\n",
      "19  /  16 / 17 / 11\n",
      "19  /  17 / 16 / 5\n",
      "19  /  17 / 17 / 21\n",
      "19  /  17 / 22 / 13\n",
      "19  /  20 / 15 / 29\n",
      "19  /  23 / 11 / 3\n",
      "19  /  28 / 28 / 27\n",
      "19  /  29 / 2 / 21\n",
      "19  /  30 / 29 / 22\n",
      "20  /  7 / 15 / 6\n",
      "20  /  8 / 25 / 26\n",
      "20  /  15 / 1 / 12\n",
      "20  /  18 / 26 / 14\n",
      "21  /  1 / 6 / 14\n",
      "21  /  1 / 15 / 5\n",
      "21  /  1 / 25 / 19\n",
      "21  /  3 / 22 / 1\n",
      "21  /  5 / 17 / 25\n",
      "21  /  8 / 28 / 16\n",
      "21  /  11 / 16 / 29\n",
      "21  /  12 / 12 / 21\n",
      "21  /  18 / 12 / 6\n",
      "21  /  18 / 18 / 9\n",
      "21  /  18 / 21 / 9\n",
      "21  /  20 / 9 / 14\n",
      "21  /  22 / 6 / 10\n",
      "21  /  23 / 15 / 16\n",
      "21  /  26 / 30 / 20\n",
      "21  /  27 / 22 / 6\n",
      "21  /  27 / 29 / 15\n",
      "21  /  30 / 29 / 17\n",
      "22  /  4 / 13 / 23\n",
      "22  /  5 / 30 / 6\n",
      "22  /  6 / 28 / 4\n",
      "22  /  8 / 1 / 21\n",
      "22  /  11 / 24 / 23\n",
      "22  /  14 / 16 / 19\n",
      "22  /  16 / 14 / 13\n",
      "22  /  16 / 18 / 24\n",
      "22  /  17 / 30 / 30\n",
      "22  /  19 / 10 / 18\n",
      "22  /  20 / 2 / 1\n",
      "22  /  20 / 14 / 17\n",
      "22  /  22 / 9 / 2\n",
      "22  /  22 / 24 / 4\n",
      "22  /  24 / 25 / 3\n",
      "22  /  24 / 28 / 11\n",
      "22  /  27 / 4 / 8\n",
      "22  /  29 / 19 / 10\n",
      "23  /  2 / 8 / 12\n",
      "23  /  3 / 17 / 19\n",
      "23  /  4 / 9 / 11\n",
      "23  /  4 / 28 / 5\n",
      "23  /  5 / 24 / 15\n",
      "23  /  5 / 24 / 15 will make 100%AI\n",
      "23  /  5 / 26 / 13\n",
      "23  /  7 / 16 / 22\n",
      "23  /  11 / 25 / 27\n",
      "23  /  12 / 29 / 23\n",
      "23  /  14 / 17 / 20\n",
      "23  /  15 / 17 / 19\n",
      "23  /  15 / 22 / 29\n",
      "23  /  20 / 28 / 23\n",
      "23  /  25 / 24 / 13\n",
      "24  /  7 / 6 / 3\n",
      "24  /  8 / 27 / 25\n",
      "24  /  19 / 16 / 2\n",
      "24  /  20 / 17 / 6\n",
      "24  /  26 / 28 / 7\n",
      "25  /  3 / 10 / 28\n",
      "25  /  3 / 15 / 13\n",
      "25  /  3 / 18 / 8\n",
      "25  /  4 / 10 / 23\n",
      "25  /  5 / 23 / 14\n",
      "25  /  6 / 30 / 28\n",
      "25  /  8 / 15 / 30\n",
      "25  /  9 / 6 / 20\n",
      "25  /  9 / 13 / 2\n",
      "25  /  10 / 27 / 10\n",
      "25  /  12 / 16 / 1\n",
      "25  /  12 / 26 / 25\n",
      "25  /  13 / 5 / 12\n",
      "25  /  14 / 20 / 8\n",
      "25  /  15 / 3 / 1\n",
      "25  /  15 / 12 / 14\n",
      "25  /  15 / 25 / 28\n",
      "25  /  16 / 28 / 1\n",
      "25  /  17 / 14 / 29\n",
      "25  /  17 / 26 / 30\n",
      "25  /  18 / 4 / 27\n",
      "25  /  21 / 2 / 25\n",
      "25  /  21 / 22 / 20\n",
      "25  /  22 / 16 / 27\n",
      "25  /  23 / 1 / 13\n",
      "25  /  23 / 16 / 14\n",
      "25  /  30 / 2 / 14\n",
      "25  /  30 / 20 / 11\n",
      "26  /  4 / 4 / 27\n",
      "26  /  4 / 5 / 11\n",
      "26  /  5 / 5 / 7\n",
      "26  /  5 / 18 / 7\n",
      "26  /  6 / 1 / 14\n",
      "26  /  6 / 25 / 27\n",
      "26  /  10 / 11 / 8\n",
      "26  /  12 / 13 / 1\n",
      "26  /  14 / 9 / 27\n",
      "26  /  14 / 11 / 2\n",
      "26  /  15 / 2 / 4\n",
      "26  /  16 / 18 / 24\n",
      "26  /  16 / 20 / 8\n",
      "26  /  18 / 14 / 10\n",
      "26  /  24 / 12 / 10\n",
      "26  /  26 / 28 / 23\n",
      "26  /  27 / 9 / 18\n",
      "26  /  29 / 6 / 9\n",
      "27  /  5 / 3 / 26\n",
      "27  /  5 / 20 / 2\n",
      "27  /  10 / 6 / 19\n",
      "27  /  10 / 22 / 13\n",
      "27  /  10 / 29 / 30\n",
      "27  /  11 / 26 / 19\n",
      "27  /  13 / 12 / 11\n",
      "27  /  13 / 16 / 25\n",
      "27  /  15 / 17 / 10\n",
      "27  /  15 / 20 / 7\n",
      "27  /  18 / 30 / 25\n",
      "27  /  20 / 16 / 16\n",
      "27  /  23 / 5 / 11\n",
      "27  /  24 / 17 / 13\n",
      "27  /  24 / 27 / 2\n",
      "27  /  27 / 30 / 17\n",
      "28  /  1 / 3 / 23\n",
      "28  /  1 / 25 / 6\n",
      "28  /  3 / 8 / 28\n",
      "28  /  5 / 18 / 2\n",
      "28  /  6 / 19 / 10\n",
      "28  /  6 / 27 / 17\n",
      "28  /  8 / 6 / 27\n",
      "28  /  9 / 5 / 28\n",
      "28  /  9 / 14 / 23\n",
      "28  /  9 / 16 / 29\n",
      "28  /  10 / 23 / 19\n",
      "28  /  13 / 25 / 25\n",
      "28  /  17 / 4 / 29\n",
      "28  /  19 / 30 / 24\n",
      "28  /  24 / 9 / 12\n",
      "28  /  26 / 4 / 3\n",
      "28  /  26 / 8 / 13\n",
      "28  /  27 / 8 / 15\n",
      "28  /  27 / 9 / 10\n",
      "28  /  28 / 28 / 9\n",
      "28  /  29 / 6 / 15\n",
      "28  /  29 / 6 / 15 will make 100%AI\n",
      "28  /  29 / 18 / 10\n",
      "28  /  30 / 19 / 4\n",
      "30  /  2 / 8 / 17\n",
      "30  /  2 / 30 / 2\n",
      "30  /  3 / 19 / 25\n",
      "30  /  5 / 10 / 16\n",
      "30  /  6 / 2 / 4\n",
      "30  /  9 / 1 / 5\n",
      "30  /  9 / 11 / 8\n",
      "30  /  9 / 24 / 1\n",
      "30  /  11 / 9 / 5\n",
      "30  /  11 / 15 / 1\n",
      "30  /  12 / 6 / 27\n",
      "30  /  15 / 2 / 19\n",
      "30  /  18 / 24 / 9\n",
      "30  /  18 / 24 / 21\n",
      "30  /  21 / 2 / 7\n",
      "30  /  22 / 25 / 8\n",
      "30  /  23 / 3 / 2\n",
      "30  /  25 / 29 / 9\n",
      "30  /  27 / 1 / 6\n",
      "30  /  28 / 25 / 12\n",
      "30  /  30 / 3 / 3\n",
      "30  /  30 / 5 / 2\n"
     ]
    }
   ],
   "source": [
    "#Multi Layer Preceptron 기반 모델 좋은 성능을 내는 hidden_layer_sizes 구하기(99.1%이상)\n",
    "from sklearn.neural_network import MLPClassifier\n",
    "for n in range(len(cancer.feature_names)):\n",
    "    for i in range(len(cancer.feature_names)):\n",
    "        for j in range(len(cancer.feature_names)):\n",
    "            for k in range(len(cancer.feature_names)):\n",
    "                mc = MLPClassifier(solver='lbfgs',\n",
    "                                   hidden_layer_sizes=(n+1,i+1, j+1, k+1),\n",
    "                                   random_state=0)\n",
    "                mc.fit(X_train_fit, y_train)\n",
    "\n",
    "                from sklearn.metrics import confusion_matrix\n",
    "                y_pred = mc.predict(X_test_fit)\n",
    "                confusion_matrix(y_test, y_pred)\n",
    "                if f1_score(y_test, y_pred, average='binary')>0.991:\n",
    "                    print(n+1, \" / \", i+1,\"/\", j+1, \"/\", k+1)\n",
    "                if f1_score(y_test, y_pred, average='binary')==1:\n",
    "                    print(n+1, \" / \", i+1,\"/\", j+1, \"/\", k+1, \"will make 100%AI\")"
   ]
  },
  {
   "cell_type": "markdown",
   "metadata": {},
   "source": [
    "# MLP 기반 최적화 모델"
   ]
  },
  {
   "cell_type": "code",
   "execution_count": 18,
   "metadata": {},
   "outputs": [
    {
     "name": "stdout",
     "output_type": "stream",
     "text": [
      "MLP 기반 모델 최적화 결과(f1_score) : 1.0\n"
     ]
    },
    {
     "data": {
      "text/plain": [
       "array([[ 63,   0],\n",
       "       [  0, 108]], dtype=int64)"
      ]
     },
     "execution_count": 18,
     "metadata": {},
     "output_type": "execute_result"
    }
   ],
   "source": [
    "#MLP 기반 최적화 모델\n",
    "from sklearn.neural_network import MLPClassifier\n",
    "\n",
    "mc = MLPClassifier(solver='lbfgs',\n",
    "                   hidden_layer_sizes=(9,11,5,20),\n",
    "                   random_state=0)\n",
    "mc.fit(X_train_fit, y_train)\n",
    "\n",
    "from sklearn.metrics import f1_score\n",
    "print(\"MLP 기반 모델 최적화 결과(f1_score) : \",end=\"\")\n",
    "print(f1_score(y_test, y_pred, average='binary'))\n",
    "\n",
    "#confusion_matrix를 호출하여 결과 확인\n",
    "from sklearn.metrics import confusion_matrix\n",
    "y_pred = mc.predict(X_test_fit)\n",
    "confusion_matrix(y_test, y_pred)"
   ]
  },
  {
   "cell_type": "markdown",
   "metadata": {},
   "source": [
    "## RandomForest 기반 모델 좋은 성능의 n_estimators(트리의 갯수)와 max_features 구하기(98.3%이상)"
   ]
  },
  {
   "cell_type": "code",
   "execution_count": 82,
   "metadata": {},
   "outputs": [
    {
     "name": "stdout",
     "output_type": "stream",
     "text": [
      "21  /  18\n",
      "40  /  1\n",
      "41  /  20\n",
      "47  /  10\n",
      "51  /  10\n",
      "55  /  10\n",
      "57  /  10\n",
      "71  /  25\n",
      "71  /  25  are 99%\n",
      "73  /  25\n",
      "74  /  25\n",
      "75  /  25\n",
      "77  /  25\n",
      "79  /  25\n",
      "84  /  25\n",
      "85  /  25\n",
      "87  /  25\n",
      "88  /  25\n",
      "89  /  25\n",
      "90  /  25\n",
      "91  /  10\n",
      "91  /  25\n",
      "92  /  10\n",
      "end\n"
     ]
    }
   ],
   "source": [
    "#RandomForest 기반 모델 좋은 성능의 n_estimators(트리의 갯수)와 max_features 구하기(98.3%이상)\n",
    "from sklearn.ensemble import RandomForestClassifier\n",
    "for i in range(100): #10000까지 해본 결과 n_estimators가 92 넘는 결과 값을 얻은 적이 없어서 100으로 지정\n",
    "    for j in range(len(cancer.feature_names)):#최대 특질의 수만큼 알아봄\n",
    "        rfc = RandomForestClassifier(n_estimators=i+1,\n",
    "                                     max_features=j+1,\n",
    "                                     random_state=0)\n",
    "        rfc.fit(X_train_fit, y_train)\n",
    "        y_pred = rfc.predict(X_test_fit)\n",
    "        if f1_score(y_test, y_pred, average='binary')>0.983:\n",
    "            print(i+1, \" / \", j+1)\n",
    "        if f1_score(y_test, y_pred, average='binary')>0.99:\n",
    "            print(i+1, \" / \", j+1, \" are 99%\")\n",
    "            \n",
    "print(\"end\")\n",
    "\n",
    "# from sklearn.metrics import f1_score\n",
    "# print(\"RandomForest 기반 모델 결과(f1_score) : \",end=\"\")\n",
    "# print(f1_score(y_test, y_pred, average='binary'))"
   ]
  },
  {
   "cell_type": "markdown",
   "metadata": {},
   "source": [
    "# RandomForest 기반 최적화 모델"
   ]
  },
  {
   "cell_type": "code",
   "execution_count": 110,
   "metadata": {},
   "outputs": [
    {
     "name": "stdout",
     "output_type": "stream",
     "text": [
      "RandomForest 기반 최적화 모델 결과(f1_score) : 0.9906542056074767\n"
     ]
    },
    {
     "data": {
      "text/plain": [
       "array([[ 63,   0],\n",
       "       [  2, 106]], dtype=int64)"
      ]
     },
     "execution_count": 110,
     "metadata": {},
     "output_type": "execute_result"
    }
   ],
   "source": [
    "#RandomForest 기반 최적화 모델\n",
    "from sklearn.ensemble import RandomForestClassifier\n",
    "\n",
    "rfc = RandomForestClassifier(n_estimators=71,\n",
    "                             max_features=25,\n",
    "                             random_state=0)\n",
    "rfc.fit(X_train_fit, y_train)\n",
    "y_pred = rfc.predict(X_test_fit)\n",
    "\n",
    "from sklearn.metrics import f1_score\n",
    "print(\"RandomForest 기반 최적화 모델 결과(f1_score) : \",end=\"\")\n",
    "print(f1_score(y_test, y_pred, average='binary'))\n",
    "\n",
    "#confusion_matrix를 호출하여 결과 확인\n",
    "from sklearn.metrics import confusion_matrix\n",
    "y_pred = rfc.predict(X_test_fit)\n",
    "confusion_matrix(y_test, y_pred)"
   ]
  },
  {
   "cell_type": "code",
   "execution_count": 113,
   "metadata": {},
   "outputs": [],
   "source": [
    "estimator = rfc.estimators_[30]\n",
    "\n",
    "from sklearn.tree import export_graphviz\n",
    "# Export as dot file\n",
    "export_graphviz(estimator, out_file='tree.dot', \n",
    "                feature_names = cancer.feature_names,\n",
    "                class_names = cancer.target_names,\n",
    "                rounded = True, proportion = False, \n",
    "                precision = 2, filled = True)\n"
   ]
  },
  {
   "cell_type": "code",
   "execution_count": 26,
   "metadata": {},
   "outputs": [],
   "source": [
    "from sklearn.datasets import load_breast_cancer #sklearn datasets의 유방암 진단 데이터 호출\n",
    "import pandas as pd #pandas를 호출하고 pd로 정의\n",
    "import numpy as np #numpy를 호출하고 np로 정의\n",
    "from sklearn.model_selection import train_test_split\n",
    "\n",
    "cancer = load_breast_cancer()\n",
    "\n",
    "data = pd.DataFrame(np.c_[cancer[\"data\"], cancer[\"target\"]],\n",
    "                    columns = np.append(cancer['feature_names'], [\"target\"]))\n",
    "\n",
    "X = data.drop([\"target\"], axis=1) #target을 제외한 feature들을 X에 저장\n",
    "y = data[\"target\"].astype(int) #target을 y에 저장\n",
    "X_train, X_test, y_train, y_test = train_test_split(X, y, test_size=0.3, random_state=0) # train data와 test data를 7:3으로 나누고 random 값 고정\n",
    "\n",
    "# features의 scale 설정\n",
    "from sklearn.preprocessing import StandardScaler\n",
    "\n",
    "sc = StandardScaler()\n",
    "a = X_train\n",
    "X_train_fit = sc.fit_transform(a)\n",
    "b = X_test\n",
    "X_test_fit = sc.fit_transform(b)"
   ]
  },
  {
   "cell_type": "code",
   "execution_count": 25,
   "metadata": {},
   "outputs": [
    {
     "name": "stdout",
     "output_type": "stream",
     "text": [
      "MLP 기반 모델 최적화 결과(f1_score) : 0.6203703703703703\n"
     ]
    },
    {
     "data": {
      "text/plain": [
       "array([[ 63,   0],\n",
       "       [  2, 106]], dtype=int64)"
      ]
     },
     "execution_count": 25,
     "metadata": {},
     "output_type": "execute_result"
    }
   ],
   "source": [
    "from sklearn.metrics import f1_score\n",
    "print(\"MLP 기반 모델 최적화 결과(f1_score) : \",end=\"\")\n",
    "print(f1_score(y_test, y_pred, average='binary'))\n",
    "\n",
    "#confusion_matrix를 호출하여 결과 확인\n",
    "from sklearn.metrics import confusion_matrix\n",
    "y_pred = mc.predict(X_test_fit)\n",
    "confusion_matrix(y_test, y_pred)"
   ]
  },
  {
   "cell_type": "code",
   "execution_count": null,
   "metadata": {},
   "outputs": [],
   "source": []
  }
 ],
 "metadata": {
  "kernelspec": {
   "display_name": "Python 3",
   "language": "python",
   "name": "python3"
  },
  "language_info": {
   "codemirror_mode": {
    "name": "ipython",
    "version": 3
   },
   "file_extension": ".py",
   "mimetype": "text/x-python",
   "name": "python",
   "nbconvert_exporter": "python",
   "pygments_lexer": "ipython3",
   "version": "3.7.3"
  }
 },
 "nbformat": 4,
 "nbformat_minor": 2
}
